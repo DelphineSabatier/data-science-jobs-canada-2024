{
 "cells": [
  {
   "cell_type": "markdown",
   "metadata": {},
   "source": [
    "# Imports"
   ]
  },
  {
   "cell_type": "code",
   "execution_count": 1,
   "metadata": {},
   "outputs": [],
   "source": [
    "\n",
    "# Jupyter notebook autoreload\n",
    "%load_ext autoreload\n",
    "%autoreload 2\n",
    "\n",
    "# imports usuels\n",
    "import pandas as pd\n",
    "import numpy as np\n",
    "import matplotlib.pyplot as plt\n",
    "import seaborn as sns\n",
    "import statsmodels.formula.api as smf\n",
    "import plotly.express as px\n",
    "import geopandas as gpd\n",
    "import matplotlib.pyplot as plt\n",
    "\n",
    "# Preprocessing sentences\n",
    "import string\n",
    "from nltk import word_tokenize\n",
    "from nltk.stem import WordNetLemmatizer\n",
    "from nltk.corpus import stopwords\n",
    "from nltk import FreqDist\n",
    "\n",
    "# Get lat and long of cities\n",
    "from geopy.geocoders import Nominatim\n",
    "import folium\n",
    "from folium.plugins import HeatMap\n",
    "\n",
    "# Transformers\n",
    "from transformers import pipeline\n",
    "\n",
    "# Job category cleaning\n",
    "from collections import OrderedDict\n"
   ]
  },
  {
   "cell_type": "markdown",
   "metadata": {},
   "source": [
    "# Dataset Description: \"LinkedIn Canada: Data Science Jobs 2024\"\n",
    "\n",
    "Dataset from Kaggle : https://www.kaggle.com/datasets/kanchana1990/linkedin-canada-data-science-jobs-2024\n",
    "\n",
    "Landscape of data science employment opportunities in Canada at the beginning of 2024 as sourced from LinkedIn."
   ]
  },
  {
   "cell_type": "markdown",
   "metadata": {},
   "source": [
    "## Assessing data quality"
   ]
  },
  {
   "cell_type": "code",
   "execution_count": 2,
   "metadata": {},
   "outputs": [
    {
     "data": {
      "text/html": [
       "<div>\n",
       "<style scoped>\n",
       "    .dataframe tbody tr th:only-of-type {\n",
       "        vertical-align: middle;\n",
       "    }\n",
       "\n",
       "    .dataframe tbody tr th {\n",
       "        vertical-align: top;\n",
       "    }\n",
       "\n",
       "    .dataframe thead th {\n",
       "        text-align: right;\n",
       "    }\n",
       "</style>\n",
       "<table border=\"1\" class=\"dataframe\">\n",
       "  <thead>\n",
       "    <tr style=\"text-align: right;\">\n",
       "      <th></th>\n",
       "      <th>applicationsCount</th>\n",
       "      <th>companyId</th>\n",
       "      <th>companyName</th>\n",
       "      <th>contractType</th>\n",
       "      <th>description</th>\n",
       "      <th>experienceLevel</th>\n",
       "      <th>location</th>\n",
       "      <th>postedTime</th>\n",
       "      <th>publishedAt</th>\n",
       "      <th>salary</th>\n",
       "      <th>sector</th>\n",
       "      <th>title</th>\n",
       "      <th>workType</th>\n",
       "    </tr>\n",
       "  </thead>\n",
       "  <tbody>\n",
       "    <tr>\n",
       "      <th>0</th>\n",
       "      <td>Over 200 applicants</td>\n",
       "      <td>11000395.0</td>\n",
       "      <td>Embarq</td>\n",
       "      <td>Full-time</td>\n",
       "      <td>About Embarq\\n\\nWe help VC-backed US startups ...</td>\n",
       "      <td>Mid-Senior level</td>\n",
       "      <td>Quebec, Canada</td>\n",
       "      <td>2 weeks ago</td>\n",
       "      <td>2024-01-05</td>\n",
       "      <td>NaN</td>\n",
       "      <td>IT Services and IT Consulting and Software Dev...</td>\n",
       "      <td>Machine Learning Engineer</td>\n",
       "      <td>Engineering and Information Technology</td>\n",
       "    </tr>\n",
       "    <tr>\n",
       "      <th>1</th>\n",
       "      <td>Over 200 applicants</td>\n",
       "      <td>912833.0</td>\n",
       "      <td>Thumbtack</td>\n",
       "      <td>Full-time</td>\n",
       "      <td>A home is the biggest investment most people m...</td>\n",
       "      <td>Not Applicable</td>\n",
       "      <td>Ontario, Canada</td>\n",
       "      <td>2 weeks ago</td>\n",
       "      <td>2024-01-05</td>\n",
       "      <td>NaN</td>\n",
       "      <td>Technology, Information and Internet</td>\n",
       "      <td>Data Scientist, Business Analytics</td>\n",
       "      <td>Engineering and Information Technology</td>\n",
       "    </tr>\n",
       "    <tr>\n",
       "      <th>2</th>\n",
       "      <td>Over 200 applicants</td>\n",
       "      <td>10064814.0</td>\n",
       "      <td>Clarifai</td>\n",
       "      <td>Full-time</td>\n",
       "      <td>About The Company\\n\\nClarifai is a leading, fu...</td>\n",
       "      <td>Mid-Senior level</td>\n",
       "      <td>Montreal, Quebec, Canada</td>\n",
       "      <td>4 months ago</td>\n",
       "      <td>2023-09-15</td>\n",
       "      <td>NaN</td>\n",
       "      <td>Technology, Information and Internet</td>\n",
       "      <td>Data Scientist</td>\n",
       "      <td>Engineering and Information Technology</td>\n",
       "    </tr>\n",
       "    <tr>\n",
       "      <th>3</th>\n",
       "      <td>Over 200 applicants</td>\n",
       "      <td>6637598.0</td>\n",
       "      <td>Drop</td>\n",
       "      <td>Full-time</td>\n",
       "      <td>As a member of the Data Science team, you are ...</td>\n",
       "      <td>Not Applicable</td>\n",
       "      <td>Toronto, Ontario, Canada</td>\n",
       "      <td>2 months ago</td>\n",
       "      <td>2023-11-15</td>\n",
       "      <td>NaN</td>\n",
       "      <td>Transportation, Logistics, Supply Chain and St...</td>\n",
       "      <td>Data Science, Investment Research</td>\n",
       "      <td>Engineering and Information Technology</td>\n",
       "    </tr>\n",
       "    <tr>\n",
       "      <th>4</th>\n",
       "      <td>Over 200 applicants</td>\n",
       "      <td>2681218.0</td>\n",
       "      <td>Logikk</td>\n",
       "      <td>Full-time</td>\n",
       "      <td>Data Scientist - Computer Vision Tech Company ...</td>\n",
       "      <td>Mid-Senior level</td>\n",
       "      <td>Montreal, Quebec, Canada</td>\n",
       "      <td>2 weeks ago</td>\n",
       "      <td>2024-01-05</td>\n",
       "      <td>NaN</td>\n",
       "      <td>IT Services and IT Consulting</td>\n",
       "      <td>Data Scientist</td>\n",
       "      <td>Engineering</td>\n",
       "    </tr>\n",
       "  </tbody>\n",
       "</table>\n",
       "</div>"
      ],
      "text/plain": [
       "     applicationsCount   companyId companyName contractType  \\\n",
       "0  Over 200 applicants  11000395.0      Embarq    Full-time   \n",
       "1  Over 200 applicants    912833.0   Thumbtack    Full-time   \n",
       "2  Over 200 applicants  10064814.0    Clarifai    Full-time   \n",
       "3  Over 200 applicants   6637598.0        Drop    Full-time   \n",
       "4  Over 200 applicants   2681218.0      Logikk    Full-time   \n",
       "\n",
       "                                         description   experienceLevel  \\\n",
       "0  About Embarq\\n\\nWe help VC-backed US startups ...  Mid-Senior level   \n",
       "1  A home is the biggest investment most people m...    Not Applicable   \n",
       "2  About The Company\\n\\nClarifai is a leading, fu...  Mid-Senior level   \n",
       "3  As a member of the Data Science team, you are ...    Not Applicable   \n",
       "4  Data Scientist - Computer Vision Tech Company ...  Mid-Senior level   \n",
       "\n",
       "                   location    postedTime publishedAt salary  \\\n",
       "0            Quebec, Canada   2 weeks ago  2024-01-05    NaN   \n",
       "1           Ontario, Canada   2 weeks ago  2024-01-05    NaN   \n",
       "2  Montreal, Quebec, Canada  4 months ago  2023-09-15    NaN   \n",
       "3  Toronto, Ontario, Canada  2 months ago  2023-11-15    NaN   \n",
       "4  Montreal, Quebec, Canada   2 weeks ago  2024-01-05    NaN   \n",
       "\n",
       "                                              sector  \\\n",
       "0  IT Services and IT Consulting and Software Dev...   \n",
       "1               Technology, Information and Internet   \n",
       "2               Technology, Information and Internet   \n",
       "3  Transportation, Logistics, Supply Chain and St...   \n",
       "4                      IT Services and IT Consulting   \n",
       "\n",
       "                                title                                workType  \n",
       "0           Machine Learning Engineer  Engineering and Information Technology  \n",
       "1  Data Scientist, Business Analytics  Engineering and Information Technology  \n",
       "2                      Data Scientist  Engineering and Information Technology  \n",
       "3   Data Science, Investment Research  Engineering and Information Technology  \n",
       "4                      Data Scientist                             Engineering  "
      ]
     },
     "execution_count": 2,
     "metadata": {},
     "output_type": "execute_result"
    }
   ],
   "source": [
    "# Read the csv data of Linkedin opportunities in Canada\n",
    "data = pd.read_csv(\"data/linkedin_canada.csv\")\n",
    "data.head()"
   ]
  },
  {
   "cell_type": "code",
   "execution_count": 3,
   "metadata": {},
   "outputs": [
    {
     "data": {
      "text/plain": [
       "(275, 13)"
      ]
     },
     "execution_count": 3,
     "metadata": {},
     "output_type": "execute_result"
    }
   ],
   "source": [
    "#Usual check: shape\n",
    "data.shape\n"
   ]
  },
  {
   "cell_type": "code",
   "execution_count": 4,
   "metadata": {},
   "outputs": [
    {
     "data": {
      "text/plain": [
       "Index(['applicationsCount', 'companyId', 'companyName', 'contractType',\n",
       "       'description', 'experienceLevel', 'location', 'postedTime',\n",
       "       'publishedAt', 'salary', 'sector', 'title', 'workType'],\n",
       "      dtype='object')"
      ]
     },
     "execution_count": 4,
     "metadata": {},
     "output_type": "execute_result"
    }
   ],
   "source": [
    "#Usual check: columns\n",
    "data.columns"
   ]
  },
  {
   "cell_type": "code",
   "execution_count": 5,
   "metadata": {},
   "outputs": [
    {
     "name": "stdout",
     "output_type": "stream",
     "text": [
      "<class 'pandas.core.frame.DataFrame'>\n",
      "RangeIndex: 275 entries, 0 to 274\n",
      "Data columns (total 13 columns):\n",
      " #   Column             Non-Null Count  Dtype  \n",
      "---  ------             --------------  -----  \n",
      " 0   applicationsCount  275 non-null    object \n",
      " 1   companyId          274 non-null    float64\n",
      " 2   companyName        274 non-null    object \n",
      " 3   contractType       264 non-null    object \n",
      " 4   description        275 non-null    object \n",
      " 5   experienceLevel    275 non-null    object \n",
      " 6   location           275 non-null    object \n",
      " 7   postedTime         275 non-null    object \n",
      " 8   publishedAt        270 non-null    object \n",
      " 9   salary             13 non-null     object \n",
      " 10  sector             264 non-null    object \n",
      " 11  title              275 non-null    object \n",
      " 12  workType           264 non-null    object \n",
      "dtypes: float64(1), object(12)\n",
      "memory usage: 28.1+ KB\n"
     ]
    }
   ],
   "source": [
    "#Usual check: dtypes for each columns and non-null count\n",
    "data.info()"
   ]
  },
  {
   "cell_type": "code",
   "execution_count": 6,
   "metadata": {},
   "outputs": [
    {
     "data": {
      "text/plain": [
       "0"
      ]
     },
     "execution_count": 6,
     "metadata": {},
     "output_type": "execute_result"
    }
   ],
   "source": [
    "# Checking if there are duplicates\n",
    "data.duplicated().sum()"
   ]
  },
  {
   "cell_type": "code",
   "execution_count": 7,
   "metadata": {},
   "outputs": [
    {
     "data": {
      "text/plain": [
       "salary               0.952727\n",
       "contractType         0.040000\n",
       "sector               0.040000\n",
       "workType             0.040000\n",
       "publishedAt          0.018182\n",
       "companyId            0.003636\n",
       "companyName          0.003636\n",
       "applicationsCount    0.000000\n",
       "description          0.000000\n",
       "experienceLevel      0.000000\n",
       "location             0.000000\n",
       "postedTime           0.000000\n",
       "title                0.000000\n",
       "dtype: float64"
      ]
     },
     "execution_count": 7,
     "metadata": {},
     "output_type": "execute_result"
    }
   ],
   "source": [
    "# Are there any null values:\n",
    "data.isnull().sum().sort_values(ascending=False)/len(data)\n"
   ]
  },
  {
   "cell_type": "code",
   "execution_count": 8,
   "metadata": {},
   "outputs": [],
   "source": [
    "# Creation of a new dataset : data_clean and delete the salary columns as 95% of salary is missing data\n",
    "data_clean = data.drop(columns=\"salary\")"
   ]
  },
  {
   "cell_type": "code",
   "execution_count": 9,
   "metadata": {},
   "outputs": [
    {
     "data": {
      "text/plain": [
       "array(['Quebec, Canada', 'Ontario, Canada', 'Montreal, Quebec, Canada',\n",
       "       'Toronto, Ontario, Canada', 'Canada',\n",
       "       'Moncton, New Brunswick, Canada', 'Barrie, Ontario, Canada',\n",
       "       'Regina, Saskatchewan, Canada', 'Oshawa, Ontario, Canada',\n",
       "       'St John’s, Newfoundland and Labrador, Canada',\n",
       "       'Ottawa, Ontario, Canada', 'Kitchener, Ontario, Canada',\n",
       "       'Edmonton, Alberta, Canada', 'Kelowna, British Columbia, Canada',\n",
       "       'Vancouver, British Columbia, Canada',\n",
       "       'Saskatoon, Saskatchewan, Canada', 'Manitoba, Canada',\n",
       "       'Winnipeg, Manitoba, Canada', 'Greater Toronto Area, Canada',\n",
       "       'Windsor, Ontario, Canada', 'Hamilton, Ontario, Canada',\n",
       "       'London, Ontario, Canada', 'Calgary, Alberta, Canada',\n",
       "       'Victoria, British Columbia, Canada', 'British Columbia, Canada',\n",
       "       'Queens, Prince Edward Island, Canada',\n",
       "       'Halifax, Nova Scotia, Canada', 'Laval, Quebec, Canada',\n",
       "       'Mississauga, Ontario, Canada', 'Québec, Quebec, Canada',\n",
       "       'Trois-Rivières, Quebec, Canada', 'Owen Sound, Ontario, Canada',\n",
       "       'Waterloo, Ontario, Canada', 'Fredericton, New Brunswick, Canada'],\n",
       "      dtype=object)"
      ]
     },
     "execution_count": 9,
     "metadata": {},
     "output_type": "execute_result"
    }
   ],
   "source": [
    "# Location columns readability can be improved\n",
    "data_clean.location.unique()"
   ]
  },
  {
   "cell_type": "code",
   "execution_count": 10,
   "metadata": {},
   "outputs": [],
   "source": [
    "# Splitting columns to get city, state, country\n",
    "location_details = data_clean.location.str.split(\",\", expand=True)"
   ]
  },
  {
   "cell_type": "code",
   "execution_count": 11,
   "metadata": {},
   "outputs": [],
   "source": [
    "# Adding this new columns location details to data_clean\n",
    "for i in range(3):\n",
    "    data_clean.loc[:, f\"location_details_{i}\"] = location_details[i]"
   ]
  },
  {
   "cell_type": "code",
   "execution_count": 12,
   "metadata": {},
   "outputs": [
    {
     "data": {
      "text/plain": [
       "location_details_2    0.560000\n",
       "location_details_1    0.487273\n",
       "contractType          0.040000\n",
       "sector                0.040000\n",
       "workType              0.040000\n",
       "publishedAt           0.018182\n",
       "companyId             0.003636\n",
       "companyName           0.003636\n",
       "applicationsCount     0.000000\n",
       "description           0.000000\n",
       "experienceLevel       0.000000\n",
       "location              0.000000\n",
       "postedTime            0.000000\n",
       "title                 0.000000\n",
       "location_details_0    0.000000\n",
       "dtype: float64"
      ]
     },
     "execution_count": 12,
     "metadata": {},
     "output_type": "execute_result"
    }
   ],
   "source": [
    "# Check the additionnal columns the amount of None values\n",
    "data_clean.isnull().sum().sort_values(ascending=False)/len(data)"
   ]
  },
  {
   "cell_type": "code",
   "execution_count": 13,
   "metadata": {},
   "outputs": [],
   "source": [
    "# Only values Canada or None are available so this column can be suppressed.\n",
    "data_clean = data_clean.drop(columns=[\"location_details_1\",\"location_details_2\",\"location\"])"
   ]
  },
  {
   "cell_type": "code",
   "execution_count": 14,
   "metadata": {},
   "outputs": [],
   "source": [
    "data_clean = data_clean.rename(columns={\"location_details_0\":\"city\"})"
   ]
  },
  {
   "cell_type": "code",
   "execution_count": 15,
   "metadata": {},
   "outputs": [],
   "source": [
    "# We cannot replace the values from CompanyID and companyName so I decide to suppress these rows:\n",
    "data_clean = data_clean.dropna(subset=['companyId',\"contractType\",\"publishedAt\"])"
   ]
  },
  {
   "cell_type": "code",
   "execution_count": 16,
   "metadata": {},
   "outputs": [
    {
     "data": {
      "text/plain": [
       "applicationsCount    0.0\n",
       "companyId            0.0\n",
       "companyName          0.0\n",
       "contractType         0.0\n",
       "description          0.0\n",
       "experienceLevel      0.0\n",
       "postedTime           0.0\n",
       "publishedAt          0.0\n",
       "sector               0.0\n",
       "title                0.0\n",
       "workType             0.0\n",
       "city                 0.0\n",
       "dtype: float64"
      ]
     },
     "execution_count": 16,
     "metadata": {},
     "output_type": "execute_result"
    }
   ],
   "source": [
    "# There are no more missing data\n",
    "data_clean.isnull().sum().sort_values(ascending=False)/len(data)"
   ]
  },
  {
   "cell_type": "code",
   "execution_count": 17,
   "metadata": {},
   "outputs": [],
   "source": [
    "# Correct format date for publishedAt\n",
    "data_clean.publishedAt = pd.to_datetime(data_clean.publishedAt, format=\"%Y/%m/%d\")"
   ]
  },
  {
   "cell_type": "code",
   "execution_count": 18,
   "metadata": {},
   "outputs": [],
   "source": [
    "# Reset index\n",
    "data_clean = data_clean.reset_index(drop=True)"
   ]
  },
  {
   "cell_type": "markdown",
   "metadata": {},
   "source": [
    "# Data exploration"
   ]
  },
  {
   "cell_type": "markdown",
   "metadata": {},
   "source": [
    "### Dates"
   ]
  },
  {
   "cell_type": "code",
   "execution_count": 19,
   "metadata": {},
   "outputs": [
    {
     "data": {
      "text/plain": [
       "'The most recent job post is 2024-01-19, the oldest job post is 2023-04-22'"
      ]
     },
     "execution_count": 19,
     "metadata": {},
     "output_type": "execute_result"
    }
   ],
   "source": [
    "f\"The most recent job post is {max(data_clean.publishedAt).date()}, the oldest job post is {min(data_clean.publishedAt).date()}\""
   ]
  },
  {
   "cell_type": "code",
   "execution_count": 20,
   "metadata": {},
   "outputs": [
    {
     "data": {
      "image/png": "[encoded data removed]",
      "text/plain": [
       "<Figure size 640x480 with 1 Axes>"
      ]
     },
     "metadata": {},
     "output_type": "display_data"
    }
   ],
   "source": [
    "sns.histplot(data=data_clean, x=\"publishedAt\", palette=\"mako\")\n",
    "plt.xticks(rotation=90)\n",
    "plt.title(\"Job opportunities publish date\");"
   ]
  },
  {
   "cell_type": "code",
   "execution_count": 21,
   "metadata": {},
   "outputs": [
    {
     "data": {
      "text/plain": [
       "'Average job posting duration 35 days.'"
      ]
     },
     "execution_count": 21,
     "metadata": {},
     "output_type": "execute_result"
    }
   ],
   "source": [
    "# How old are most job opportunities?\n",
    "\n",
    "# create series of dates containing publish_dates\n",
    "publish_date = data_clean.publishedAt\n",
    "\n",
    "# subtract the most recent date which is 19/01/2024 by publish date\n",
    "age = max(data_clean.publishedAt) - publish_date\n",
    "\n",
    "# calculate average age\n",
    "avg_age = age.mean()\n",
    "\n",
    "f\"Average job posting duration {avg_age.days} days.\""
   ]
  },
  {
   "cell_type": "markdown",
   "metadata": {},
   "source": [
    "### Sectors"
   ]
  },
  {
   "cell_type": "code",
   "execution_count": 22,
   "metadata": {},
   "outputs": [
    {
     "data": {
      "text/html": [
       "<div>\n",
       "<style scoped>\n",
       "    .dataframe tbody tr th:only-of-type {\n",
       "        vertical-align: middle;\n",
       "    }\n",
       "\n",
       "    .dataframe tbody tr th {\n",
       "        vertical-align: top;\n",
       "    }\n",
       "\n",
       "    .dataframe thead th {\n",
       "        text-align: right;\n",
       "    }\n",
       "</style>\n",
       "<table border=\"1\" class=\"dataframe\">\n",
       "  <thead>\n",
       "    <tr style=\"text-align: right;\">\n",
       "      <th></th>\n",
       "      <th>sector</th>\n",
       "      <th>count</th>\n",
       "    </tr>\n",
       "  </thead>\n",
       "  <tbody>\n",
       "    <tr>\n",
       "      <th>0</th>\n",
       "      <td>Technology, Information and Internet</td>\n",
       "      <td>48</td>\n",
       "    </tr>\n",
       "    <tr>\n",
       "      <th>1</th>\n",
       "      <td>Software Development</td>\n",
       "      <td>43</td>\n",
       "    </tr>\n",
       "    <tr>\n",
       "      <th>2</th>\n",
       "      <td>Financial Services</td>\n",
       "      <td>32</td>\n",
       "    </tr>\n",
       "    <tr>\n",
       "      <th>3</th>\n",
       "      <td>IT Services and IT Consulting</td>\n",
       "      <td>24</td>\n",
       "    </tr>\n",
       "    <tr>\n",
       "      <th>4</th>\n",
       "      <td>Human Resources Services</td>\n",
       "      <td>20</td>\n",
       "    </tr>\n",
       "    <tr>\n",
       "      <th>5</th>\n",
       "      <td>Transportation, Logistics, Supply Chain and St...</td>\n",
       "      <td>11</td>\n",
       "    </tr>\n",
       "    <tr>\n",
       "      <th>6</th>\n",
       "      <td>Staffing and Recruiting</td>\n",
       "      <td>9</td>\n",
       "    </tr>\n",
       "    <tr>\n",
       "      <th>7</th>\n",
       "      <td>Computer and Network Security</td>\n",
       "      <td>5</td>\n",
       "    </tr>\n",
       "    <tr>\n",
       "      <th>8</th>\n",
       "      <td>Human Resources</td>\n",
       "      <td>4</td>\n",
       "    </tr>\n",
       "    <tr>\n",
       "      <th>9</th>\n",
       "      <td>Software Development and Technology, Informati...</td>\n",
       "      <td>4</td>\n",
       "    </tr>\n",
       "  </tbody>\n",
       "</table>\n",
       "</div>"
      ],
      "text/plain": [
       "                                              sector  count\n",
       "0               Technology, Information and Internet     48\n",
       "1                               Software Development     43\n",
       "2                                 Financial Services     32\n",
       "3                      IT Services and IT Consulting     24\n",
       "4                           Human Resources Services     20\n",
       "5  Transportation, Logistics, Supply Chain and St...     11\n",
       "6                            Staffing and Recruiting      9\n",
       "7                      Computer and Network Security      5\n",
       "8                                    Human Resources      4\n",
       "9  Software Development and Technology, Informati...      4"
      ]
     },
     "execution_count": 22,
     "metadata": {},
     "output_type": "execute_result"
    }
   ],
   "source": [
    "sector_top_10 = pd.DataFrame(data_clean[\"sector\"].value_counts().sort_values(ascending=False).head(10)).reset_index().rename(columns={\"index\":\"sector\",\"sector\":\"count\"})\n",
    "sector_top_10\n",
    "# sns.histplot(data=sector_top_10, x=)"
   ]
  },
  {
   "cell_type": "code",
   "execution_count": 23,
   "metadata": {},
   "outputs": [
    {
     "data": {
      "image/png": "[encoded data removed]",
      "text/plain": [
       "<Figure size 640x480 with 1 Axes>"
      ]
     },
     "metadata": {},
     "output_type": "display_data"
    }
   ],
   "source": [
    "sns.barplot(data=sector_top_10, x=\"sector\",y=\"count\", palette=\"mako\")\n",
    "plt.xticks(rotation=90)\n",
    "plt.title(\"Top 10 Sectors recruiting in Canada\");"
   ]
  },
  {
   "cell_type": "code",
   "execution_count": 24,
   "metadata": {},
   "outputs": [
    {
     "data": {
      "text/plain": [
       "'Top 3 sectors represents 47.5% of overall job market'"
      ]
     },
     "execution_count": 24,
     "metadata": {},
     "output_type": "execute_result"
    }
   ],
   "source": [
    "top3_sector = sector_top_10.iloc[0:3].sum()[\"count\"]\n",
    "tot_sector = len(data_clean[\"sector\"])\n",
    "f\"Top 3 sectors represents {round(((top3_sector)/tot_sector)*100,1)}% of overall job market\""
   ]
  },
  {
   "cell_type": "code",
   "execution_count": 25,
   "metadata": {},
   "outputs": [
    {
     "data": {
      "text/plain": [
       "'Top 10 sectors represents 77.2% of overall job market'"
      ]
     },
     "execution_count": 25,
     "metadata": {},
     "output_type": "execute_result"
    }
   ],
   "source": [
    "top10_sector = sector_top_10.iloc[0:10].sum()[\"count\"]\n",
    "f\"Top 10 sectors represents {round(((top10_sector)/tot_sector)*100,1)}% of overall job market\""
   ]
  },
  {
   "cell_type": "markdown",
   "metadata": {},
   "source": [
    "### Experience Level"
   ]
  },
  {
   "cell_type": "code",
   "execution_count": 26,
   "metadata": {},
   "outputs": [
    {
     "data": {
      "text/html": [
       "<div>\n",
       "<style scoped>\n",
       "    .dataframe tbody tr th:only-of-type {\n",
       "        vertical-align: middle;\n",
       "    }\n",
       "\n",
       "    .dataframe tbody tr th {\n",
       "        vertical-align: top;\n",
       "    }\n",
       "\n",
       "    .dataframe thead th {\n",
       "        text-align: right;\n",
       "    }\n",
       "</style>\n",
       "<table border=\"1\" class=\"dataframe\">\n",
       "  <thead>\n",
       "    <tr style=\"text-align: right;\">\n",
       "      <th></th>\n",
       "      <th>index</th>\n",
       "      <th>experienceLevel</th>\n",
       "    </tr>\n",
       "  </thead>\n",
       "  <tbody>\n",
       "    <tr>\n",
       "      <th>0</th>\n",
       "      <td>Mid-Senior level</td>\n",
       "      <td>146</td>\n",
       "    </tr>\n",
       "    <tr>\n",
       "      <th>1</th>\n",
       "      <td>Entry level</td>\n",
       "      <td>60</td>\n",
       "    </tr>\n",
       "    <tr>\n",
       "      <th>2</th>\n",
       "      <td>Not Applicable</td>\n",
       "      <td>31</td>\n",
       "    </tr>\n",
       "    <tr>\n",
       "      <th>3</th>\n",
       "      <td>Associate</td>\n",
       "      <td>19</td>\n",
       "    </tr>\n",
       "    <tr>\n",
       "      <th>4</th>\n",
       "      <td>Internship</td>\n",
       "      <td>3</td>\n",
       "    </tr>\n",
       "  </tbody>\n",
       "</table>\n",
       "</div>"
      ],
      "text/plain": [
       "              index  experienceLevel\n",
       "0  Mid-Senior level              146\n",
       "1       Entry level               60\n",
       "2    Not Applicable               31\n",
       "3         Associate               19\n",
       "4        Internship                3"
      ]
     },
     "execution_count": 26,
     "metadata": {},
     "output_type": "execute_result"
    }
   ],
   "source": [
    "experiencelevel = data_clean.experienceLevel.value_counts()\n",
    "experiencelevel = pd.DataFrame(experiencelevel)\n",
    "experiencelevel=experiencelevel.reset_index()\n",
    "experiencelevel"
   ]
  },
  {
   "cell_type": "code",
   "execution_count": 27,
   "metadata": {},
   "outputs": [
    {
     "data": {
      "text/plain": [
       "Text(0.5, 1.0, 'Job Search Queries by Experience Level')"
      ]
     },
     "execution_count": 27,
     "metadata": {},
     "output_type": "execute_result"
    },
    {
     "data": {
      "image/png": "[encoded data removed]",
      "text/plain": [
       "<Figure size 640x480 with 1 Axes>"
      ]
     },
     "metadata": {},
     "output_type": "display_data"
    }
   ],
   "source": [
    "# Distribution of job by experience level\n",
    "\n",
    "# Define order of experience level\n",
    "experience_order=\"Not Applicable\", \"Internship\",\"Entry level\",\"Mid-Senior level\",\"Associate\"\n",
    "\n",
    "# Visualisation\n",
    "sns.barplot(data=experiencelevel, x=\"index\", y=\"experienceLevel\", order=experience_order, palette=\"mako\")\n",
    "plt.xlabel(\"Experience Level\")\n",
    "plt.ylabel(\"Count\")\n",
    "plt.title(\"Job Search Queries by Experience Level\")"
   ]
  },
  {
   "cell_type": "code",
   "execution_count": 28,
   "metadata": {},
   "outputs": [],
   "source": [
    "# Proportion of the highest frequent value compared to overall dataset\n",
    "Mid_Senior = len(data_clean.experienceLevel[data_clean.experienceLevel==\"Mid-Senior level\"])"
   ]
  },
  {
   "cell_type": "code",
   "execution_count": 29,
   "metadata": {},
   "outputs": [
    {
     "data": {
      "text/plain": [
       "'Mid-senior jobs represents 56.4% of total Canadian market'"
      ]
     },
     "execution_count": 29,
     "metadata": {},
     "output_type": "execute_result"
    }
   ],
   "source": [
    "f\"Mid-senior jobs represents {round(((Mid_Senior)/len(data_clean.experienceLevel))*100,1)}% of total Canadian market\""
   ]
  },
  {
   "cell_type": "markdown",
   "metadata": {},
   "source": [
    "### Contract type"
   ]
  },
  {
   "cell_type": "code",
   "execution_count": 30,
   "metadata": {},
   "outputs": [
    {
     "data": {
      "text/html": [
       "<div>\n",
       "<style scoped>\n",
       "    .dataframe tbody tr th:only-of-type {\n",
       "        vertical-align: middle;\n",
       "    }\n",
       "\n",
       "    .dataframe tbody tr th {\n",
       "        vertical-align: top;\n",
       "    }\n",
       "\n",
       "    .dataframe thead th {\n",
       "        text-align: right;\n",
       "    }\n",
       "</style>\n",
       "<table border=\"1\" class=\"dataframe\">\n",
       "  <thead>\n",
       "    <tr style=\"text-align: right;\">\n",
       "      <th></th>\n",
       "      <th>Contract_Type</th>\n",
       "      <th>count</th>\n",
       "    </tr>\n",
       "  </thead>\n",
       "  <tbody>\n",
       "    <tr>\n",
       "      <th>0</th>\n",
       "      <td>Full-time</td>\n",
       "      <td>230</td>\n",
       "    </tr>\n",
       "    <tr>\n",
       "      <th>1</th>\n",
       "      <td>Contract</td>\n",
       "      <td>24</td>\n",
       "    </tr>\n",
       "    <tr>\n",
       "      <th>2</th>\n",
       "      <td>Part-time</td>\n",
       "      <td>4</td>\n",
       "    </tr>\n",
       "    <tr>\n",
       "      <th>3</th>\n",
       "      <td>Internship</td>\n",
       "      <td>1</td>\n",
       "    </tr>\n",
       "  </tbody>\n",
       "</table>\n",
       "</div>"
      ],
      "text/plain": [
       "  Contract_Type  count\n",
       "0     Full-time    230\n",
       "1      Contract     24\n",
       "2     Part-time      4\n",
       "3    Internship      1"
      ]
     },
     "execution_count": 30,
     "metadata": {},
     "output_type": "execute_result"
    }
   ],
   "source": [
    "contract_type = pd.DataFrame(data_clean.contractType.value_counts()).reset_index().rename(columns={\"index\":\"Contract_Type\", \"contractType\":\"count\"})\n",
    "contract_type"
   ]
  },
  {
   "cell_type": "code",
   "execution_count": 31,
   "metadata": {},
   "outputs": [
    {
     "data": {
      "image/png": "[encoded data removed]",
      "text/plain": [
       "<Figure size 640x480 with 1 Axes>"
      ]
     },
     "metadata": {},
     "output_type": "display_data"
    }
   ],
   "source": [
    "# Distribution of job by contract type\n",
    "\n",
    "# Define order of contract type\n",
    "contract_type_order =\"Full-time\", \"Contract\",\"Part-time\",\"Internship\"\n",
    "\n",
    "# Visualisation\n",
    "sns.barplot(data=contract_type, y=\"count\", x=\"Contract_Type\", order=contract_type_order, palette=\"mako\")\n",
    "plt.xlabel(\"Contract type\")\n",
    "plt.ylabel(\"Count\")\n",
    "plt.title(\"Job Search Queries by Contract Type\");"
   ]
  },
  {
   "cell_type": "code",
   "execution_count": 32,
   "metadata": {},
   "outputs": [
    {
     "data": {
      "text/plain": [
       "0.888030888030888"
      ]
     },
     "execution_count": 32,
     "metadata": {},
     "output_type": "execute_result"
    }
   ],
   "source": [
    "230/len(data_clean.contractType)"
   ]
  },
  {
   "cell_type": "code",
   "execution_count": 33,
   "metadata": {},
   "outputs": [
    {
     "data": {
      "text/plain": [
       "'Full-time contract are 88.8%'"
      ]
     },
     "execution_count": 33,
     "metadata": {},
     "output_type": "execute_result"
    }
   ],
   "source": [
    "f\"Full-time contract are {round((230/len(data_clean.contractType))*100,1)}%\""
   ]
  },
  {
   "cell_type": "markdown",
   "metadata": {},
   "source": [
    "### Companies"
   ]
  },
  {
   "cell_type": "code",
   "execution_count": 34,
   "metadata": {},
   "outputs": [
    {
     "data": {
      "text/html": [
       "<div>\n",
       "<style scoped>\n",
       "    .dataframe tbody tr th:only-of-type {\n",
       "        vertical-align: middle;\n",
       "    }\n",
       "\n",
       "    .dataframe tbody tr th {\n",
       "        vertical-align: top;\n",
       "    }\n",
       "\n",
       "    .dataframe thead th {\n",
       "        text-align: right;\n",
       "    }\n",
       "</style>\n",
       "<table border=\"1\" class=\"dataframe\">\n",
       "  <thead>\n",
       "    <tr style=\"text-align: right;\">\n",
       "      <th></th>\n",
       "      <th>Company</th>\n",
       "      <th>count</th>\n",
       "    </tr>\n",
       "  </thead>\n",
       "  <tbody>\n",
       "    <tr>\n",
       "      <th>0</th>\n",
       "      <td>Affirm</td>\n",
       "      <td>24</td>\n",
       "    </tr>\n",
       "    <tr>\n",
       "      <th>1</th>\n",
       "      <td>Zortech Solutions</td>\n",
       "      <td>17</td>\n",
       "    </tr>\n",
       "    <tr>\n",
       "      <th>2</th>\n",
       "      <td>Canonical</td>\n",
       "      <td>13</td>\n",
       "    </tr>\n",
       "    <tr>\n",
       "      <th>3</th>\n",
       "      <td>Techedin</td>\n",
       "      <td>11</td>\n",
       "    </tr>\n",
       "    <tr>\n",
       "      <th>4</th>\n",
       "      <td>Kinaxis</td>\n",
       "      <td>7</td>\n",
       "    </tr>\n",
       "    <tr>\n",
       "      <th>5</th>\n",
       "      <td>Braintrust</td>\n",
       "      <td>5</td>\n",
       "    </tr>\n",
       "    <tr>\n",
       "      <th>6</th>\n",
       "      <td>Hour Consulting</td>\n",
       "      <td>5</td>\n",
       "    </tr>\n",
       "    <tr>\n",
       "      <th>7</th>\n",
       "      <td>Software International</td>\n",
       "      <td>4</td>\n",
       "    </tr>\n",
       "    <tr>\n",
       "      <th>8</th>\n",
       "      <td>Quora</td>\n",
       "      <td>4</td>\n",
       "    </tr>\n",
       "    <tr>\n",
       "      <th>9</th>\n",
       "      <td>Okta</td>\n",
       "      <td>3</td>\n",
       "    </tr>\n",
       "  </tbody>\n",
       "</table>\n",
       "</div>"
      ],
      "text/plain": [
       "                  Company  count\n",
       "0                  Affirm     24\n",
       "1       Zortech Solutions     17\n",
       "2               Canonical     13\n",
       "3                Techedin     11\n",
       "4                 Kinaxis      7\n",
       "5              Braintrust      5\n",
       "6         Hour Consulting      5\n",
       "7  Software International      4\n",
       "8                   Quora      4\n",
       "9                    Okta      3"
      ]
     },
     "execution_count": 34,
     "metadata": {},
     "output_type": "execute_result"
    }
   ],
   "source": [
    "# Top 10 company hiring\n",
    "\n",
    "Top_10_hiring_company = pd.DataFrame(data_clean.companyName.value_counts().head(10)).reset_index().rename(columns={\"index\":\"Company\", \"companyName\":\"count\"})\n",
    "Top_10_hiring_company"
   ]
  },
  {
   "cell_type": "code",
   "execution_count": 35,
   "metadata": {},
   "outputs": [
    {
     "data": {
      "text/plain": [
       "'Top3 companies represents 20.8% and Top10 companies represents 35.9%'"
      ]
     },
     "execution_count": 35,
     "metadata": {},
     "output_type": "execute_result"
    }
   ],
   "source": [
    "f\"Top3 companies represents {round(((24+17+13)/len(data_clean.companyName))*100,1)}% and Top10 companies represents {round(((24+17+13+11+7+5+5+4+4+3)/len(data_clean.companyName))*100,1)}%\""
   ]
  },
  {
   "cell_type": "code",
   "execution_count": 36,
   "metadata": {},
   "outputs": [
    {
     "data": {
      "image/png": "[encoded data removed]",
      "text/plain": [
       "<Figure size 640x480 with 1 Axes>"
      ]
     },
     "metadata": {},
     "output_type": "display_data"
    }
   ],
   "source": [
    "\n",
    "# Visualisation\n",
    "sns.barplot(data=Top_10_hiring_company, y=\"count\", x=\"Company\", palette=\"mako\")\n",
    "plt.xlabel(\"Company name\")\n",
    "plt.xticks(rotation=90)\n",
    "plt.ylabel(\"Count\")\n",
    "plt.title(\"Top 10 Company hiring\");"
   ]
  },
  {
   "cell_type": "markdown",
   "metadata": {},
   "source": [
    "### Job Categories"
   ]
  },
  {
   "cell_type": "code",
   "execution_count": 38,
   "metadata": {},
   "outputs": [
    {
     "data": {
      "text/html": [
       "<div>\n",
       "<style scoped>\n",
       "    .dataframe tbody tr th:only-of-type {\n",
       "        vertical-align: middle;\n",
       "    }\n",
       "\n",
       "    .dataframe tbody tr th {\n",
       "        vertical-align: top;\n",
       "    }\n",
       "\n",
       "    .dataframe thead th {\n",
       "        text-align: right;\n",
       "    }\n",
       "</style>\n",
       "<table border=\"1\" class=\"dataframe\">\n",
       "  <thead>\n",
       "    <tr style=\"text-align: right;\">\n",
       "      <th></th>\n",
       "      <th>index</th>\n",
       "      <th>title</th>\n",
       "    </tr>\n",
       "  </thead>\n",
       "  <tbody>\n",
       "    <tr>\n",
       "      <th>0</th>\n",
       "      <td>Machine Learning Engineer I, ML (Anywhere ML)</td>\n",
       "      <td>15</td>\n",
       "    </tr>\n",
       "    <tr>\n",
       "      <th>1</th>\n",
       "      <td>Machine Learning Engineer II, ML (Credit Decis...</td>\n",
       "      <td>8</td>\n",
       "    </tr>\n",
       "    <tr>\n",
       "      <th>2</th>\n",
       "      <td>Python Engineer</td>\n",
       "      <td>7</td>\n",
       "    </tr>\n",
       "    <tr>\n",
       "      <th>3</th>\n",
       "      <td>Senior Machine Learning Engineer</td>\n",
       "      <td>6</td>\n",
       "    </tr>\n",
       "    <tr>\n",
       "      <th>4</th>\n",
       "      <td>Senior Software Developer, Machine Learning (1...</td>\n",
       "      <td>5</td>\n",
       "    </tr>\n",
       "    <tr>\n",
       "      <th>...</th>\n",
       "      <td>...</td>\n",
       "      <td>...</td>\n",
       "    </tr>\n",
       "    <tr>\n",
       "      <th>196</th>\n",
       "      <td>Python Developer</td>\n",
       "      <td>1</td>\n",
       "    </tr>\n",
       "    <tr>\n",
       "      <th>197</th>\n",
       "      <td>Ruby Developer</td>\n",
       "      <td>1</td>\n",
       "    </tr>\n",
       "    <tr>\n",
       "      <th>198</th>\n",
       "      <td>Senior Full-Stack Developer (Remote - anywhere...</td>\n",
       "      <td>1</td>\n",
       "    </tr>\n",
       "    <tr>\n",
       "      <th>199</th>\n",
       "      <td>Tech Lead/Full stack Developer-Canada</td>\n",
       "      <td>1</td>\n",
       "    </tr>\n",
       "    <tr>\n",
       "      <th>200</th>\n",
       "      <td>Atlassian Systems Engineer</td>\n",
       "      <td>1</td>\n",
       "    </tr>\n",
       "  </tbody>\n",
       "</table>\n",
       "<p>201 rows × 2 columns</p>\n",
       "</div>"
      ],
      "text/plain": [
       "                                                 index  title\n",
       "0        Machine Learning Engineer I, ML (Anywhere ML)     15\n",
       "1    Machine Learning Engineer II, ML (Credit Decis...      8\n",
       "2                                      Python Engineer      7\n",
       "3                     Senior Machine Learning Engineer      6\n",
       "4    Senior Software Developer, Machine Learning (1...      5\n",
       "..                                                 ...    ...\n",
       "196                                   Python Developer      1\n",
       "197                                     Ruby Developer      1\n",
       "198  Senior Full-Stack Developer (Remote - anywhere...      1\n",
       "199              Tech Lead/Full stack Developer-Canada      1\n",
       "200                         Atlassian Systems Engineer      1\n",
       "\n",
       "[201 rows x 2 columns]"
      ]
     },
     "execution_count": 38,
     "metadata": {},
     "output_type": "execute_result"
    }
   ],
   "source": [
    "# Job titles are too different from each other and need preprocessing before classifying by categories.\n",
    "\n",
    "title = pd.DataFrame(data_clean.title.value_counts()).reset_index()\n",
    "\n",
    "title"
   ]
  },
  {
   "cell_type": "code",
   "execution_count": 61,
   "metadata": {},
   "outputs": [],
   "source": [
    "def preprocessing(sentence):\n",
    "    \"\"\"Preprocess sentences by converting to lowercase, removing numbers and punctuation, eliminating whitespace and newline characters, tokenizing, removing stopwords, and lemmatizing words.\n",
    "\n",
    "    Args:\n",
    "        sentence (string): description of the job opportunity\n",
    "\n",
    "    Returns:\n",
    "        string: clean description\n",
    "    \"\"\"\n",
    "\n",
    "\n",
    "    # Lowercasing\n",
    "    sentence = sentence.lower()\n",
    "\n",
    "    # Removing numbers\n",
    "    sentence = ''.join(char for char in sentence if not char.isdigit())\n",
    "\n",
    "    # Removing punctuation\n",
    "    for punctuation in string.punctuation:\n",
    "        sentence = sentence.replace(punctuation, ' ')\n",
    "    sentence = sentence.replace(\"'\", \"\")\n",
    "\n",
    "    # Removing whitespace and new line characters\n",
    "    sentence = \" \".join(sentence.split())\n",
    "\n",
    "\n",
    "    # Tokenizing\n",
    "    tokenized_sentence = word_tokenize(sentence)\n",
    "\n",
    "    # define stopwords\n",
    "    stop_words = set(stopwords.words('english'))\n",
    "\n",
    "    # remove stopwords\n",
    "    tokenized_sentence_cleaned = [word for word in tokenized_sentence if not word in stop_words]\n",
    "\n",
    "    # Lemmatizing\n",
    "    lemmatizer = WordNetLemmatizer()\n",
    "    lemmatized = [lemmatizer.lemmatize(word) for word in tokenized_sentence_cleaned]\n",
    "    # sentence = \" \".join(lemmatized)\n",
    "\n",
    "    # return sentence\n",
    "    return lemmatized"
   ]
  },
  {
   "cell_type": "code",
   "execution_count": 163,
   "metadata": {},
   "outputs": [],
   "source": [
    "data_clean['description_clean'] = data_clean.description.apply(preprocessing)\n"
   ]
  },
  {
   "cell_type": "code",
   "execution_count": 164,
   "metadata": {},
   "outputs": [],
   "source": [
    "# # I was convinced that some description were in French, so Roberta model was used to detect which description were not in English.\n",
    "\n",
    "# # Instantiate the roberta model into pipeline\n",
    "\n",
    "# model_ckpt = \"papluca/xlm-roberta-base-language-detection\"\n",
    "# pipe = pipeline(\"text-classification\", model=model_ckpt)\n"
   ]
  },
  {
   "cell_type": "code",
   "execution_count": 168,
   "metadata": {},
   "outputs": [
    {
     "ename": "ValueError",
     "evalue": "The pipeline received invalid inputs, if you are trying to send text pairs, you can try to send a dictionary `{\"text\": \"My text\", \"text_pair\": \"My pair\"}` in order to send a text pair.",
     "output_type": "error",
     "traceback": [
      "\u001b[0;31m---------------------------------------------------------------------------\u001b[0m",
      "\u001b[0;31mValueError\u001b[0m                                Traceback (most recent call last)",
      "Cell \u001b[0;32mIn [168], line 1\u001b[0m\n\u001b[0;32m----> 1\u001b[0m language_detect \u001b[38;5;241m=\u001b[39m \u001b[43mpipe\u001b[49m\u001b[43m(\u001b[49m\u001b[43mdata_clean\u001b[49m\u001b[38;5;241;43m.\u001b[39;49m\u001b[43mdescription_clean\u001b[49m\u001b[38;5;241;43m.\u001b[39;49m\u001b[43mto_list\u001b[49m\u001b[43m(\u001b[49m\u001b[43m)\u001b[49m\u001b[43m,\u001b[49m\u001b[43m \u001b[49m\u001b[43mtop_k\u001b[49m\u001b[38;5;241;43m=\u001b[39;49m\u001b[38;5;241;43m1\u001b[39;49m\u001b[43m,\u001b[49m\u001b[43m \u001b[49m\u001b[43mtruncation\u001b[49m\u001b[38;5;241;43m=\u001b[39;49m\u001b[38;5;28;43;01mTrue\u001b[39;49;00m\u001b[43m)\u001b[49m\n",
      "File \u001b[0;32m~/.pyenv/versions/3.10.6/envs/lewagon/lib/python3.10/site-packages/transformers/pipelines/text_classification.py:156\u001b[0m, in \u001b[0;36mTextClassificationPipeline.__call__\u001b[0;34m(self, *args, **kwargs)\u001b[0m\n\u001b[1;32m    122\u001b[0m \u001b[38;5;28;01mdef\u001b[39;00m \u001b[38;5;21m__call__\u001b[39m(\u001b[38;5;28mself\u001b[39m, \u001b[38;5;241m*\u001b[39margs, \u001b[38;5;241m*\u001b[39m\u001b[38;5;241m*\u001b[39mkwargs):\n\u001b[1;32m    123\u001b[0m     \u001b[38;5;124;03m\"\"\"\u001b[39;00m\n\u001b[1;32m    124\u001b[0m \u001b[38;5;124;03m    Classify the text(s) given as inputs.\u001b[39;00m\n\u001b[1;32m    125\u001b[0m \n\u001b[0;32m   (...)\u001b[0m\n\u001b[1;32m    154\u001b[0m \u001b[38;5;124;03m        If `top_k` is used, one such dictionary is returned per label.\u001b[39;00m\n\u001b[1;32m    155\u001b[0m \u001b[38;5;124;03m    \"\"\"\u001b[39;00m\n\u001b[0;32m--> 156\u001b[0m     result \u001b[38;5;241m=\u001b[39m \u001b[38;5;28;43msuper\u001b[39;49m\u001b[43m(\u001b[49m\u001b[43m)\u001b[49m\u001b[38;5;241;43m.\u001b[39;49m\u001b[38;5;21;43m__call__\u001b[39;49m\u001b[43m(\u001b[49m\u001b[38;5;241;43m*\u001b[39;49m\u001b[43margs\u001b[49m\u001b[43m,\u001b[49m\u001b[43m \u001b[49m\u001b[38;5;241;43m*\u001b[39;49m\u001b[38;5;241;43m*\u001b[39;49m\u001b[43mkwargs\u001b[49m\u001b[43m)\u001b[49m\n\u001b[1;32m    157\u001b[0m     \u001b[38;5;66;03m# TODO try and retrieve it in a nicer way from _sanitize_parameters.\u001b[39;00m\n\u001b[1;32m    158\u001b[0m     _legacy \u001b[38;5;241m=\u001b[39m \u001b[38;5;124m\"\u001b[39m\u001b[38;5;124mtop_k\u001b[39m\u001b[38;5;124m\"\u001b[39m \u001b[38;5;129;01mnot\u001b[39;00m \u001b[38;5;129;01min\u001b[39;00m kwargs\n",
      "File \u001b[0;32m~/.pyenv/versions/3.10.6/envs/lewagon/lib/python3.10/site-packages/transformers/pipelines/base.py:1121\u001b[0m, in \u001b[0;36mPipeline.__call__\u001b[0;34m(self, inputs, num_workers, batch_size, *args, **kwargs)\u001b[0m\n\u001b[1;32m   1117\u001b[0m \u001b[38;5;28;01mif\u001b[39;00m can_use_iterator:\n\u001b[1;32m   1118\u001b[0m     final_iterator \u001b[38;5;241m=\u001b[39m \u001b[38;5;28mself\u001b[39m\u001b[38;5;241m.\u001b[39mget_iterator(\n\u001b[1;32m   1119\u001b[0m         inputs, num_workers, batch_size, preprocess_params, forward_params, postprocess_params\n\u001b[1;32m   1120\u001b[0m     )\n\u001b[0;32m-> 1121\u001b[0m     outputs \u001b[38;5;241m=\u001b[39m \u001b[38;5;28;43mlist\u001b[39;49m\u001b[43m(\u001b[49m\u001b[43mfinal_iterator\u001b[49m\u001b[43m)\u001b[49m\n\u001b[1;32m   1122\u001b[0m     \u001b[38;5;28;01mreturn\u001b[39;00m outputs\n\u001b[1;32m   1123\u001b[0m \u001b[38;5;28;01melse\u001b[39;00m:\n",
      "File \u001b[0;32m~/.pyenv/versions/3.10.6/envs/lewagon/lib/python3.10/site-packages/transformers/pipelines/pt_utils.py:124\u001b[0m, in \u001b[0;36mPipelineIterator.__next__\u001b[0;34m(self)\u001b[0m\n\u001b[1;32m    121\u001b[0m     \u001b[38;5;28;01mreturn\u001b[39;00m \u001b[38;5;28mself\u001b[39m\u001b[38;5;241m.\u001b[39mloader_batch_item()\n\u001b[1;32m    123\u001b[0m \u001b[38;5;66;03m# We're out of items within a batch\u001b[39;00m\n\u001b[0;32m--> 124\u001b[0m item \u001b[38;5;241m=\u001b[39m \u001b[38;5;28;43mnext\u001b[39;49m\u001b[43m(\u001b[49m\u001b[38;5;28;43mself\u001b[39;49m\u001b[38;5;241;43m.\u001b[39;49m\u001b[43miterator\u001b[49m\u001b[43m)\u001b[49m\n\u001b[1;32m    125\u001b[0m processed \u001b[38;5;241m=\u001b[39m \u001b[38;5;28mself\u001b[39m\u001b[38;5;241m.\u001b[39minfer(item, \u001b[38;5;241m*\u001b[39m\u001b[38;5;241m*\u001b[39m\u001b[38;5;28mself\u001b[39m\u001b[38;5;241m.\u001b[39mparams)\n\u001b[1;32m    126\u001b[0m \u001b[38;5;66;03m# We now have a batch of \"inferred things\".\u001b[39;00m\n",
      "File \u001b[0;32m~/.pyenv/versions/3.10.6/envs/lewagon/lib/python3.10/site-packages/transformers/pipelines/pt_utils.py:124\u001b[0m, in \u001b[0;36mPipelineIterator.__next__\u001b[0;34m(self)\u001b[0m\n\u001b[1;32m    121\u001b[0m     \u001b[38;5;28;01mreturn\u001b[39;00m \u001b[38;5;28mself\u001b[39m\u001b[38;5;241m.\u001b[39mloader_batch_item()\n\u001b[1;32m    123\u001b[0m \u001b[38;5;66;03m# We're out of items within a batch\u001b[39;00m\n\u001b[0;32m--> 124\u001b[0m item \u001b[38;5;241m=\u001b[39m \u001b[38;5;28;43mnext\u001b[39;49m\u001b[43m(\u001b[49m\u001b[38;5;28;43mself\u001b[39;49m\u001b[38;5;241;43m.\u001b[39;49m\u001b[43miterator\u001b[49m\u001b[43m)\u001b[49m\n\u001b[1;32m    125\u001b[0m processed \u001b[38;5;241m=\u001b[39m \u001b[38;5;28mself\u001b[39m\u001b[38;5;241m.\u001b[39minfer(item, \u001b[38;5;241m*\u001b[39m\u001b[38;5;241m*\u001b[39m\u001b[38;5;28mself\u001b[39m\u001b[38;5;241m.\u001b[39mparams)\n\u001b[1;32m    126\u001b[0m \u001b[38;5;66;03m# We now have a batch of \"inferred things\".\u001b[39;00m\n",
      "File \u001b[0;32m~/.pyenv/versions/3.10.6/envs/lewagon/lib/python3.10/site-packages/torch/utils/data/dataloader.py:630\u001b[0m, in \u001b[0;36m_BaseDataLoaderIter.__next__\u001b[0;34m(self)\u001b[0m\n\u001b[1;32m    627\u001b[0m \u001b[38;5;28;01mif\u001b[39;00m \u001b[38;5;28mself\u001b[39m\u001b[38;5;241m.\u001b[39m_sampler_iter \u001b[38;5;129;01mis\u001b[39;00m \u001b[38;5;28;01mNone\u001b[39;00m:\n\u001b[1;32m    628\u001b[0m     \u001b[38;5;66;03m# TODO(https://github.com/pytorch/pytorch/issues/76750)\u001b[39;00m\n\u001b[1;32m    629\u001b[0m     \u001b[38;5;28mself\u001b[39m\u001b[38;5;241m.\u001b[39m_reset()  \u001b[38;5;66;03m# type: ignore[call-arg]\u001b[39;00m\n\u001b[0;32m--> 630\u001b[0m data \u001b[38;5;241m=\u001b[39m \u001b[38;5;28;43mself\u001b[39;49m\u001b[38;5;241;43m.\u001b[39;49m\u001b[43m_next_data\u001b[49m\u001b[43m(\u001b[49m\u001b[43m)\u001b[49m\n\u001b[1;32m    631\u001b[0m \u001b[38;5;28mself\u001b[39m\u001b[38;5;241m.\u001b[39m_num_yielded \u001b[38;5;241m+\u001b[39m\u001b[38;5;241m=\u001b[39m \u001b[38;5;241m1\u001b[39m\n\u001b[1;32m    632\u001b[0m \u001b[38;5;28;01mif\u001b[39;00m \u001b[38;5;28mself\u001b[39m\u001b[38;5;241m.\u001b[39m_dataset_kind \u001b[38;5;241m==\u001b[39m _DatasetKind\u001b[38;5;241m.\u001b[39mIterable \u001b[38;5;129;01mand\u001b[39;00m \\\n\u001b[1;32m    633\u001b[0m         \u001b[38;5;28mself\u001b[39m\u001b[38;5;241m.\u001b[39m_IterableDataset_len_called \u001b[38;5;129;01mis\u001b[39;00m \u001b[38;5;129;01mnot\u001b[39;00m \u001b[38;5;28;01mNone\u001b[39;00m \u001b[38;5;129;01mand\u001b[39;00m \\\n\u001b[1;32m    634\u001b[0m         \u001b[38;5;28mself\u001b[39m\u001b[38;5;241m.\u001b[39m_num_yielded \u001b[38;5;241m>\u001b[39m \u001b[38;5;28mself\u001b[39m\u001b[38;5;241m.\u001b[39m_IterableDataset_len_called:\n",
      "File \u001b[0;32m~/.pyenv/versions/3.10.6/envs/lewagon/lib/python3.10/site-packages/torch/utils/data/dataloader.py:674\u001b[0m, in \u001b[0;36m_SingleProcessDataLoaderIter._next_data\u001b[0;34m(self)\u001b[0m\n\u001b[1;32m    672\u001b[0m \u001b[38;5;28;01mdef\u001b[39;00m \u001b[38;5;21m_next_data\u001b[39m(\u001b[38;5;28mself\u001b[39m):\n\u001b[1;32m    673\u001b[0m     index \u001b[38;5;241m=\u001b[39m \u001b[38;5;28mself\u001b[39m\u001b[38;5;241m.\u001b[39m_next_index()  \u001b[38;5;66;03m# may raise StopIteration\u001b[39;00m\n\u001b[0;32m--> 674\u001b[0m     data \u001b[38;5;241m=\u001b[39m \u001b[38;5;28;43mself\u001b[39;49m\u001b[38;5;241;43m.\u001b[39;49m\u001b[43m_dataset_fetcher\u001b[49m\u001b[38;5;241;43m.\u001b[39;49m\u001b[43mfetch\u001b[49m\u001b[43m(\u001b[49m\u001b[43mindex\u001b[49m\u001b[43m)\u001b[49m  \u001b[38;5;66;03m# may raise StopIteration\u001b[39;00m\n\u001b[1;32m    675\u001b[0m     \u001b[38;5;28;01mif\u001b[39;00m \u001b[38;5;28mself\u001b[39m\u001b[38;5;241m.\u001b[39m_pin_memory:\n\u001b[1;32m    676\u001b[0m         data \u001b[38;5;241m=\u001b[39m _utils\u001b[38;5;241m.\u001b[39mpin_memory\u001b[38;5;241m.\u001b[39mpin_memory(data, \u001b[38;5;28mself\u001b[39m\u001b[38;5;241m.\u001b[39m_pin_memory_device)\n",
      "File \u001b[0;32m~/.pyenv/versions/3.10.6/envs/lewagon/lib/python3.10/site-packages/torch/utils/data/_utils/fetch.py:51\u001b[0m, in \u001b[0;36m_MapDatasetFetcher.fetch\u001b[0;34m(self, possibly_batched_index)\u001b[0m\n\u001b[1;32m     49\u001b[0m         data \u001b[38;5;241m=\u001b[39m \u001b[38;5;28mself\u001b[39m\u001b[38;5;241m.\u001b[39mdataset\u001b[38;5;241m.\u001b[39m__getitems__(possibly_batched_index)\n\u001b[1;32m     50\u001b[0m     \u001b[38;5;28;01melse\u001b[39;00m:\n\u001b[0;32m---> 51\u001b[0m         data \u001b[38;5;241m=\u001b[39m [\u001b[38;5;28mself\u001b[39m\u001b[38;5;241m.\u001b[39mdataset[idx] \u001b[38;5;28;01mfor\u001b[39;00m idx \u001b[38;5;129;01min\u001b[39;00m possibly_batched_index]\n\u001b[1;32m     52\u001b[0m \u001b[38;5;28;01melse\u001b[39;00m:\n\u001b[1;32m     53\u001b[0m     data \u001b[38;5;241m=\u001b[39m \u001b[38;5;28mself\u001b[39m\u001b[38;5;241m.\u001b[39mdataset[possibly_batched_index]\n",
      "File \u001b[0;32m~/.pyenv/versions/3.10.6/envs/lewagon/lib/python3.10/site-packages/torch/utils/data/_utils/fetch.py:51\u001b[0m, in \u001b[0;36m<listcomp>\u001b[0;34m(.0)\u001b[0m\n\u001b[1;32m     49\u001b[0m         data \u001b[38;5;241m=\u001b[39m \u001b[38;5;28mself\u001b[39m\u001b[38;5;241m.\u001b[39mdataset\u001b[38;5;241m.\u001b[39m__getitems__(possibly_batched_index)\n\u001b[1;32m     50\u001b[0m     \u001b[38;5;28;01melse\u001b[39;00m:\n\u001b[0;32m---> 51\u001b[0m         data \u001b[38;5;241m=\u001b[39m [\u001b[38;5;28;43mself\u001b[39;49m\u001b[38;5;241;43m.\u001b[39;49m\u001b[43mdataset\u001b[49m\u001b[43m[\u001b[49m\u001b[43midx\u001b[49m\u001b[43m]\u001b[49m \u001b[38;5;28;01mfor\u001b[39;00m idx \u001b[38;5;129;01min\u001b[39;00m possibly_batched_index]\n\u001b[1;32m     52\u001b[0m \u001b[38;5;28;01melse\u001b[39;00m:\n\u001b[1;32m     53\u001b[0m     data \u001b[38;5;241m=\u001b[39m \u001b[38;5;28mself\u001b[39m\u001b[38;5;241m.\u001b[39mdataset[possibly_batched_index]\n",
      "File \u001b[0;32m~/.pyenv/versions/3.10.6/envs/lewagon/lib/python3.10/site-packages/transformers/pipelines/pt_utils.py:19\u001b[0m, in \u001b[0;36mPipelineDataset.__getitem__\u001b[0;34m(self, i)\u001b[0m\n\u001b[1;32m     17\u001b[0m \u001b[38;5;28;01mdef\u001b[39;00m \u001b[38;5;21m__getitem__\u001b[39m(\u001b[38;5;28mself\u001b[39m, i):\n\u001b[1;32m     18\u001b[0m     item \u001b[38;5;241m=\u001b[39m \u001b[38;5;28mself\u001b[39m\u001b[38;5;241m.\u001b[39mdataset[i]\n\u001b[0;32m---> 19\u001b[0m     processed \u001b[38;5;241m=\u001b[39m \u001b[38;5;28;43mself\u001b[39;49m\u001b[38;5;241;43m.\u001b[39;49m\u001b[43mprocess\u001b[49m\u001b[43m(\u001b[49m\u001b[43mitem\u001b[49m\u001b[43m,\u001b[49m\u001b[43m \u001b[49m\u001b[38;5;241;43m*\u001b[39;49m\u001b[38;5;241;43m*\u001b[39;49m\u001b[38;5;28;43mself\u001b[39;49m\u001b[38;5;241;43m.\u001b[39;49m\u001b[43mparams\u001b[49m\u001b[43m)\u001b[49m\n\u001b[1;32m     20\u001b[0m     \u001b[38;5;28;01mreturn\u001b[39;00m processed\n",
      "File \u001b[0;32m~/.pyenv/versions/3.10.6/envs/lewagon/lib/python3.10/site-packages/transformers/pipelines/text_classification.py:176\u001b[0m, in \u001b[0;36mTextClassificationPipeline.preprocess\u001b[0;34m(self, inputs, **tokenizer_kwargs)\u001b[0m\n\u001b[1;32m    171\u001b[0m     \u001b[38;5;28;01mreturn\u001b[39;00m \u001b[38;5;28mself\u001b[39m\u001b[38;5;241m.\u001b[39mtokenizer(\n\u001b[1;32m    172\u001b[0m         text\u001b[38;5;241m=\u001b[39minputs[\u001b[38;5;241m0\u001b[39m][\u001b[38;5;241m0\u001b[39m], text_pair\u001b[38;5;241m=\u001b[39minputs[\u001b[38;5;241m0\u001b[39m][\u001b[38;5;241m1\u001b[39m], return_tensors\u001b[38;5;241m=\u001b[39mreturn_tensors, \u001b[38;5;241m*\u001b[39m\u001b[38;5;241m*\u001b[39mtokenizer_kwargs\n\u001b[1;32m    173\u001b[0m     )\n\u001b[1;32m    174\u001b[0m \u001b[38;5;28;01melif\u001b[39;00m \u001b[38;5;28misinstance\u001b[39m(inputs, \u001b[38;5;28mlist\u001b[39m):\n\u001b[1;32m    175\u001b[0m     \u001b[38;5;66;03m# This is likely an invalid usage of the pipeline attempting to pass text pairs.\u001b[39;00m\n\u001b[0;32m--> 176\u001b[0m     \u001b[38;5;28;01mraise\u001b[39;00m \u001b[38;5;167;01mValueError\u001b[39;00m(\n\u001b[1;32m    177\u001b[0m         \u001b[38;5;124m\"\u001b[39m\u001b[38;5;124mThe pipeline received invalid inputs, if you are trying to send text pairs, you can try to send a\u001b[39m\u001b[38;5;124m\"\u001b[39m\n\u001b[1;32m    178\u001b[0m         \u001b[38;5;124m'\u001b[39m\u001b[38;5;124m dictionary `\u001b[39m\u001b[38;5;124m{\u001b[39m\u001b[38;5;124m\"\u001b[39m\u001b[38;5;124mtext\u001b[39m\u001b[38;5;124m\"\u001b[39m\u001b[38;5;124m: \u001b[39m\u001b[38;5;124m\"\u001b[39m\u001b[38;5;124mMy text\u001b[39m\u001b[38;5;124m\"\u001b[39m\u001b[38;5;124m, \u001b[39m\u001b[38;5;124m\"\u001b[39m\u001b[38;5;124mtext_pair\u001b[39m\u001b[38;5;124m\"\u001b[39m\u001b[38;5;124m: \u001b[39m\u001b[38;5;124m\"\u001b[39m\u001b[38;5;124mMy pair\u001b[39m\u001b[38;5;124m\"\u001b[39m\u001b[38;5;124m}` in order to send a text pair.\u001b[39m\u001b[38;5;124m'\u001b[39m\n\u001b[1;32m    179\u001b[0m     )\n\u001b[1;32m    180\u001b[0m \u001b[38;5;28;01mreturn\u001b[39;00m \u001b[38;5;28mself\u001b[39m\u001b[38;5;241m.\u001b[39mtokenizer(inputs, return_tensors\u001b[38;5;241m=\u001b[39mreturn_tensors, \u001b[38;5;241m*\u001b[39m\u001b[38;5;241m*\u001b[39mtokenizer_kwargs)\n",
      "\u001b[0;31mValueError\u001b[0m: The pipeline received invalid inputs, if you are trying to send text pairs, you can try to send a dictionary `{\"text\": \"My text\", \"text_pair\": \"My pair\"}` in order to send a text pair."
     ]
    }
   ],
   "source": [
    "# language_detect = pipe(data_clean.description_clean.to_list(), top_k=1, truncation=True)\n"
   ]
  },
  {
   "cell_type": "code",
   "execution_count": 169,
   "metadata": {},
   "outputs": [],
   "source": [
    "# # # tag every row with the language detected by the model\n",
    "# for i in range(len(language_detect)):\n",
    "#     data_clean[\"language\"] = language_detect[i][0][\"label\"]"
   ]
  },
  {
   "cell_type": "code",
   "execution_count": 170,
   "metadata": {},
   "outputs": [],
   "source": [
    "# # conclusion : All description are in english.\n",
    "# len(data_clean[data_clean[\"language\"]==\"en\"])/ len(data_clean[\"description_clean\"])"
   ]
  },
  {
   "cell_type": "code",
   "execution_count": 171,
   "metadata": {},
   "outputs": [],
   "source": [
    "data_clean[\"title_clean\"] = data_clean.title.apply(preprocessing)"
   ]
  },
  {
   "cell_type": "code",
   "execution_count": 172,
   "metadata": {},
   "outputs": [
    {
     "data": {
      "text/plain": [
       "0                        [machine, learning, engineer]\n",
       "1               [data, scientist, business, analytics]\n",
       "2                                    [data, scientist]\n",
       "3                [data, science, investment, research]\n",
       "4                                    [data, scientist]\n",
       "5     [senior, data, scientist, payment, fraud, trust]\n",
       "6                       [machine, learning, developer]\n",
       "7                                [software, developer]\n",
       "8                    [junior, data, scientist, canada]\n",
       "9            [machine, learning, scientist, associate]\n",
       "10                       [machine, learning, engineer]\n",
       "11          [data, scientist, senior, data, scientist]\n",
       "12                            [sdet, engineer, canada]\n",
       "13               [sdet, engineer, selenium, java, api]\n",
       "14                     [qa, sdet, robot, java, canada]\n",
       "15        [lead, data, scientist, business, analytics]\n",
       "16     [principal, data, scientist, machine, learning]\n",
       "17                       [machine, learning, engineer]\n",
       "18     [machine, learning, engineer, ml, anywhere, ml]\n",
       "19                    [python, sql, developer, remote]\n",
       "Name: title_clean, dtype: object"
      ]
     },
     "execution_count": 172,
     "metadata": {},
     "output_type": "execute_result"
    }
   ],
   "source": [
    "data_clean[\"title_clean\"].head(20)"
   ]
  },
  {
   "cell_type": "code",
   "execution_count": 176,
   "metadata": {},
   "outputs": [],
   "source": [
    "def clean_tokens(token):\n",
    "    if token == \"canada\" or token == \"remote\" or token == \"usd\" or token == \"cad\":\n",
    "        return False # Remove unwanted tokens\n",
    "    else:\n",
    "        return True # Keep desired tokens\n"
   ]
  },
  {
   "cell_type": "code",
   "execution_count": 177,
   "metadata": {},
   "outputs": [],
   "source": [
    "\n",
    "# Applying the filter function to each list of tokens in the title_clean column\n",
    "data_clean['title_clean'] = data_clean['title_clean'].apply(lambda x: [word for word in x if clean_tokens(word)])"
   ]
  },
  {
   "cell_type": "code",
   "execution_count": 178,
   "metadata": {},
   "outputs": [],
   "source": [
    "# Remove any duplicates\n",
    "def dedupe_list(input_list):\n",
    "    output_dict = OrderedDict()\n",
    "    for item in input_list:\n",
    "        output_dict[item] = None\n",
    "    unique_items = output_dict.keys()\n",
    "    return list(unique_items)"
   ]
  },
  {
   "cell_type": "code",
   "execution_count": 179,
   "metadata": {},
   "outputs": [],
   "source": [
    "data_clean['title_clean_cat'] = data_clean['title_clean'].apply(lambda x: dedupe_list(x))"
   ]
  },
  {
   "cell_type": "code",
   "execution_count": 180,
   "metadata": {},
   "outputs": [],
   "source": [
    "# Identify keywords and create categories\n",
    "categories = {\n",
    "    'Data Science': ['data','scientist'],\n",
    "    'Data Analysis': ['analyst','analytics'],\n",
    "    'Machine Learning': ['machine','learning','ai'],\n",
    "    'NLP': ['nlp'],\n",
    "    'Engineering': ['engineer', 'developer', 'programmer','software','développeur','dev','qa', 'cloud'],\n",
    "    'Other': []  # Default category\n",
    "}\n",
    "\n",
    "# Flatten the list of lists\n",
    "all_tokens = [word for job_title_tokens in data_clean.title_clean_cat for word in job_title_tokens]\n",
    "all_tokens\n",
    "\n",
    "# # Assign categories\n",
    "job_category = {}\n",
    "for title_tokens in data_clean.title_clean_cat:\n",
    "    for category, keywords in categories.items():\n",
    "        if any(keyword in title_tokens for keyword in keywords):\n",
    "            job_category[' '.join(title_tokens)] = category\n",
    "            break\n",
    "    else:\n",
    "        job_category[' '.join(title_tokens)] = 'Other'"
   ]
  },
  {
   "cell_type": "code",
   "execution_count": 181,
   "metadata": {},
   "outputs": [],
   "source": [
    "df = pd.DataFrame(list(job_category.items()), columns=['Job Title', 'Category'])\n",
    "\n",
    "# Get the count of each category\n",
    "category_counts = df['Category'].value_counts().reset_index()\n",
    "\n",
    "# Rename the columns\n",
    "category_counts.columns = ['Category', 'Count']\n",
    "\n",
    "# Put it as a dataframe\n",
    "category_counts = pd.DataFrame(category_counts)"
   ]
  },
  {
   "cell_type": "code",
   "execution_count": 182,
   "metadata": {},
   "outputs": [
    {
     "data": {
      "text/html": [
       "<div>\n",
       "<style scoped>\n",
       "    .dataframe tbody tr th:only-of-type {\n",
       "        vertical-align: middle;\n",
       "    }\n",
       "\n",
       "    .dataframe tbody tr th {\n",
       "        vertical-align: top;\n",
       "    }\n",
       "\n",
       "    .dataframe thead th {\n",
       "        text-align: right;\n",
       "    }\n",
       "</style>\n",
       "<table border=\"1\" class=\"dataframe\">\n",
       "  <thead>\n",
       "    <tr style=\"text-align: right;\">\n",
       "      <th></th>\n",
       "      <th>Job Title</th>\n",
       "      <th>Category</th>\n",
       "    </tr>\n",
       "  </thead>\n",
       "  <tbody>\n",
       "  </tbody>\n",
       "</table>\n",
       "</div>"
      ],
      "text/plain": [
       "Empty DataFrame\n",
       "Columns: [Job Title, Category]\n",
       "Index: []"
      ]
     },
     "execution_count": 182,
     "metadata": {},
     "output_type": "execute_result"
    }
   ],
   "source": [
    "# Check Other category does not contain any job title that should have gone to another category\n",
    "df[df[\"Category\"]==\"Other\"]"
   ]
  },
  {
   "cell_type": "code",
   "execution_count": 183,
   "metadata": {},
   "outputs": [
    {
     "data": {
      "image/png": "[encoded data removed]",
      "text/plain": [
       "<Figure size 640x480 with 1 Axes>"
      ]
     },
     "metadata": {},
     "output_type": "display_data"
    }
   ],
   "source": [
    "# Distribution of job by category\n",
    "\n",
    "# Define order of contract type\n",
    "categories_order =\"Data Science\",\"Machine Learning\",\"NLP\", \"Data Analysis\",\"Engineering\"\n",
    "\n",
    "# Visualisation\n",
    "sns.barplot(data=category_counts, y=\"Count\", x=\"Category\", order=categories_order, palette=\"mako\")\n",
    "plt.xlabel(\"Job Category\")\n",
    "plt.xticks(rotation=90)\n",
    "plt.ylabel(\"Count\")\n",
    "plt.title(\"Job opportunities by Job Category\");"
   ]
  },
  {
   "cell_type": "code",
   "execution_count": 184,
   "metadata": {},
   "outputs": [
    {
     "data": {
      "text/html": [
       "<div>\n",
       "<style scoped>\n",
       "    .dataframe tbody tr th:only-of-type {\n",
       "        vertical-align: middle;\n",
       "    }\n",
       "\n",
       "    .dataframe tbody tr th {\n",
       "        vertical-align: top;\n",
       "    }\n",
       "\n",
       "    .dataframe thead th {\n",
       "        text-align: right;\n",
       "    }\n",
       "</style>\n",
       "<table border=\"1\" class=\"dataframe\">\n",
       "  <thead>\n",
       "    <tr style=\"text-align: right;\">\n",
       "      <th></th>\n",
       "      <th>Category</th>\n",
       "      <th>Count</th>\n",
       "    </tr>\n",
       "  </thead>\n",
       "  <tbody>\n",
       "    <tr>\n",
       "      <th>0</th>\n",
       "      <td>Engineering</td>\n",
       "      <td>119</td>\n",
       "    </tr>\n",
       "  </tbody>\n",
       "</table>\n",
       "</div>"
      ],
      "text/plain": [
       "      Category  Count\n",
       "0  Engineering    119"
      ]
     },
     "execution_count": 184,
     "metadata": {},
     "output_type": "execute_result"
    }
   ],
   "source": [
    "category_counts[category_counts[\"Category\"]==\"Engineering\"]"
   ]
  },
  {
   "cell_type": "code",
   "execution_count": 185,
   "metadata": {},
   "outputs": [
    {
     "data": {
      "text/plain": [
       "Category    EngineeringMachine LearningData ScienceData An...\n",
       "Count                                                     192\n",
       "dtype: object"
      ]
     },
     "execution_count": 185,
     "metadata": {},
     "output_type": "execute_result"
    }
   ],
   "source": [
    "category_counts.sum()"
   ]
  },
  {
   "cell_type": "code",
   "execution_count": 186,
   "metadata": {},
   "outputs": [
    {
     "data": {
      "text/plain": [
       "'Engineering represents 62.0% of total job opportunities'"
      ]
     },
     "execution_count": 186,
     "metadata": {},
     "output_type": "execute_result"
    }
   ],
   "source": [
    "f\"Engineering represents {round((119/192)*100,1)}% of total job opportunities\""
   ]
  },
  {
   "cell_type": "markdown",
   "metadata": {},
   "source": [
    "## Identify skills or most common words in job description"
   ]
  },
  {
   "cell_type": "code",
   "execution_count": null,
   "metadata": {},
   "outputs": [
    {
     "data": {
      "text/html": [
       "<div>\n",
       "<style scoped>\n",
       "    .dataframe tbody tr th:only-of-type {\n",
       "        vertical-align: middle;\n",
       "    }\n",
       "\n",
       "    .dataframe tbody tr th {\n",
       "        vertical-align: top;\n",
       "    }\n",
       "\n",
       "    .dataframe thead th {\n",
       "        text-align: right;\n",
       "    }\n",
       "</style>\n",
       "<table border=\"1\" class=\"dataframe\">\n",
       "  <thead>\n",
       "    <tr style=\"text-align: right;\">\n",
       "      <th></th>\n",
       "      <th>keyword</th>\n",
       "      <th>count</th>\n",
       "    </tr>\n",
       "  </thead>\n",
       "  <tbody>\n",
       "    <tr>\n",
       "      <th>0</th>\n",
       "      <td>experience</td>\n",
       "      <td>1386</td>\n",
       "    </tr>\n",
       "    <tr>\n",
       "      <th>1</th>\n",
       "      <td>team</td>\n",
       "      <td>1220</td>\n",
       "    </tr>\n",
       "    <tr>\n",
       "      <th>2</th>\n",
       "      <td>data</td>\n",
       "      <td>984</td>\n",
       "    </tr>\n",
       "    <tr>\n",
       "      <th>3</th>\n",
       "      <td>work</td>\n",
       "      <td>914</td>\n",
       "    </tr>\n",
       "    <tr>\n",
       "      <th>4</th>\n",
       "      <td>learning</td>\n",
       "      <td>679</td>\n",
       "    </tr>\n",
       "    <tr>\n",
       "      <th>5</th>\n",
       "      <td>product</td>\n",
       "      <td>575</td>\n",
       "    </tr>\n",
       "    <tr>\n",
       "      <th>6</th>\n",
       "      <td>machine</td>\n",
       "      <td>517</td>\n",
       "    </tr>\n",
       "    <tr>\n",
       "      <th>7</th>\n",
       "      <td>software</td>\n",
       "      <td>513</td>\n",
       "    </tr>\n",
       "    <tr>\n",
       "      <th>8</th>\n",
       "      <td>model</td>\n",
       "      <td>493</td>\n",
       "    </tr>\n",
       "    <tr>\n",
       "      <th>9</th>\n",
       "      <td>role</td>\n",
       "      <td>492</td>\n",
       "    </tr>\n",
       "    <tr>\n",
       "      <th>10</th>\n",
       "      <td>development</td>\n",
       "      <td>461</td>\n",
       "    </tr>\n",
       "    <tr>\n",
       "      <th>11</th>\n",
       "      <td>new</td>\n",
       "      <td>407</td>\n",
       "    </tr>\n",
       "    <tr>\n",
       "      <th>12</th>\n",
       "      <td>technology</td>\n",
       "      <td>406</td>\n",
       "    </tr>\n",
       "    <tr>\n",
       "      <th>13</th>\n",
       "      <td>company</td>\n",
       "      <td>403</td>\n",
       "    </tr>\n",
       "    <tr>\n",
       "      <th>14</th>\n",
       "      <td>skill</td>\n",
       "      <td>403</td>\n",
       "    </tr>\n",
       "  </tbody>\n",
       "</table>\n",
       "</div>"
      ],
      "text/plain": [
       "        keyword  count\n",
       "0    experience   1386\n",
       "1          team   1220\n",
       "2          data    984\n",
       "3          work    914\n",
       "4      learning    679\n",
       "5       product    575\n",
       "6       machine    517\n",
       "7      software    513\n",
       "8         model    493\n",
       "9          role    492\n",
       "10  development    461\n",
       "11          new    407\n",
       "12   technology    406\n",
       "13      company    403\n",
       "14        skill    403"
      ]
     },
     "execution_count": 47,
     "metadata": {},
     "output_type": "execute_result"
    }
   ],
   "source": [
    "# Identification of top 20 words from all the job description\n",
    "\n",
    "# Creation of a corpus with all preprocessed job description\n",
    "corpus = data_clean.description_clean.apply(pd.Series).stack().reset_index(drop=True)\n",
    "\n",
    "# Identification of top 20 words from this corpus\n",
    "allWordDist = FreqDist(corpus)\n",
    "\n",
    "# Displaying in correct format\n",
    "test = pd.DataFrame(allWordDist.most_common(15)).rename(columns={0:\"keyword\",1:\"count\"})\n",
    "test"
   ]
  },
  {
   "cell_type": "code",
   "execution_count": null,
   "metadata": {},
   "outputs": [
    {
     "ename": "AttributeError",
     "evalue": "'DataFrame' object has no attribute 'title_clean'",
     "output_type": "error",
     "traceback": [
      "\u001b[0;31m---------------------------------------------------------------------------\u001b[0m",
      "\u001b[0;31mAttributeError\u001b[0m                            Traceback (most recent call last)",
      "Cell \u001b[0;32mIn [50], line 4\u001b[0m\n\u001b[1;32m      1\u001b[0m \u001b[38;5;66;03m# Identification of top 20 words from all the job description\u001b[39;00m\n\u001b[1;32m      2\u001b[0m \n\u001b[1;32m      3\u001b[0m \u001b[38;5;66;03m# Creation of a corpus with all preprocessed job description\u001b[39;00m\n\u001b[0;32m----> 4\u001b[0m corpus \u001b[38;5;241m=\u001b[39m \u001b[43mdata_clean\u001b[49m\u001b[38;5;241;43m.\u001b[39;49m\u001b[43mtitle_clean\u001b[49m\u001b[38;5;241m.\u001b[39mapply(pd\u001b[38;5;241m.\u001b[39mSeries)\u001b[38;5;241m.\u001b[39mstack()\u001b[38;5;241m.\u001b[39mreset_index(drop\u001b[38;5;241m=\u001b[39m\u001b[38;5;28;01mTrue\u001b[39;00m)\n\u001b[1;32m      6\u001b[0m \u001b[38;5;66;03m# Identification of top 20 words from this corpus\u001b[39;00m\n\u001b[1;32m      7\u001b[0m allWordDist \u001b[38;5;241m=\u001b[39m FreqDist(corpus)\n",
      "File \u001b[0;32m~/.pyenv/versions/3.10.6/envs/lewagon/lib/python3.10/site-packages/pandas/core/generic.py:5575\u001b[0m, in \u001b[0;36mNDFrame.__getattr__\u001b[0;34m(self, name)\u001b[0m\n\u001b[1;32m   5568\u001b[0m \u001b[38;5;28;01mif\u001b[39;00m (\n\u001b[1;32m   5569\u001b[0m     name \u001b[38;5;129;01mnot\u001b[39;00m \u001b[38;5;129;01min\u001b[39;00m \u001b[38;5;28mself\u001b[39m\u001b[38;5;241m.\u001b[39m_internal_names_set\n\u001b[1;32m   5570\u001b[0m     \u001b[38;5;129;01mand\u001b[39;00m name \u001b[38;5;129;01mnot\u001b[39;00m \u001b[38;5;129;01min\u001b[39;00m \u001b[38;5;28mself\u001b[39m\u001b[38;5;241m.\u001b[39m_metadata\n\u001b[1;32m   5571\u001b[0m     \u001b[38;5;129;01mand\u001b[39;00m name \u001b[38;5;129;01mnot\u001b[39;00m \u001b[38;5;129;01min\u001b[39;00m \u001b[38;5;28mself\u001b[39m\u001b[38;5;241m.\u001b[39m_accessors\n\u001b[1;32m   5572\u001b[0m     \u001b[38;5;129;01mand\u001b[39;00m \u001b[38;5;28mself\u001b[39m\u001b[38;5;241m.\u001b[39m_info_axis\u001b[38;5;241m.\u001b[39m_can_hold_identifiers_and_holds_name(name)\n\u001b[1;32m   5573\u001b[0m ):\n\u001b[1;32m   5574\u001b[0m     \u001b[38;5;28;01mreturn\u001b[39;00m \u001b[38;5;28mself\u001b[39m[name]\n\u001b[0;32m-> 5575\u001b[0m \u001b[38;5;28;01mreturn\u001b[39;00m \u001b[38;5;28;43mobject\u001b[39;49m\u001b[38;5;241;43m.\u001b[39;49m\u001b[38;5;21;43m__getattribute__\u001b[39;49m\u001b[43m(\u001b[49m\u001b[38;5;28;43mself\u001b[39;49m\u001b[43m,\u001b[49m\u001b[43m \u001b[49m\u001b[43mname\u001b[49m\u001b[43m)\u001b[49m\n",
      "\u001b[0;31mAttributeError\u001b[0m: 'DataFrame' object has no attribute 'title_clean'"
     ]
    }
   ],
   "source": [
    "# Identification of top 20 words from all the job description\n",
    "\n",
    "# Creation of a corpus with all preprocessed job description\n",
    "corpus = data_clean.title_clean.apply(pd.Series).stack().reset_index(drop=True)\n",
    "\n",
    "# Identification of top 20 words from this corpus\n",
    "allWordDist = FreqDist(corpus)\n",
    "\n",
    "# Displaying in correct format\n",
    "test = pd.DataFrame(allWordDist.most_common(15)).rename(columns={0:\"keyword\",1:\"count\"})\n",
    "test"
   ]
  },
  {
   "cell_type": "markdown",
   "metadata": {},
   "source": [
    "### Mapping job opportunities across Canada"
   ]
  },
  {
   "cell_type": "code",
   "execution_count": null,
   "metadata": {},
   "outputs": [],
   "source": [
    "# Define a city list without any duplicates\n",
    "city = data_clean.city\n",
    "city.drop_duplicates(inplace=True)"
   ]
  },
  {
   "cell_type": "code",
   "execution_count": null,
   "metadata": {},
   "outputs": [
    {
     "data": {
      "text/plain": [
       "[52.4760892,\n",
       " 50.000678,\n",
       " 45.5031824,\n",
       " 43.6534817,\n",
       " 45.5031824,\n",
       " 61.0666922,\n",
       " 43.6534817,\n",
       " 46.097995,\n",
       " 44.3893208,\n",
       " 61.0666922,\n",
       " 61.0666922,\n",
       " 61.0666922,\n",
       " 61.0666922,\n",
       " 61.0666922,\n",
       " 61.0666922,\n",
       " 50.000678,\n",
       " 45.5031824,\n",
       " 61.0666922,\n",
       " 43.8975558,\n",
       " 61.0666922,\n",
       " 61.0666922,\n",
       " 50.000678,\n",
       " 47.5614705,\n",
       " 61.0666922,\n",
       " 43.6534817,\n",
       " 45.4208777,\n",
       " 43.451291,\n",
       " 61.0666922,\n",
       " 53.5462055,\n",
       " 61.0666922,\n",
       " 50.000678,\n",
       " 49.8879177,\n",
       " 61.0666922,\n",
       " 43.6534817,\n",
       " 61.0666922,\n",
       " 61.0666922,\n",
       " 61.0666922,\n",
       " 49.2608724,\n",
       " 50.000678,\n",
       " 52.131802,\n",
       " 53.5462055,\n",
       " 52.4760892,\n",
       " 61.0666922,\n",
       " 61.0666922,\n",
       " 61.0666922,\n",
       " 61.0666922,\n",
       " 43.6534817,\n",
       " 61.0666922,\n",
       " 43.6534817,\n",
       " 55.001251,\n",
       " 61.0666922,\n",
       " 61.0666922,\n",
       " 61.0666922,\n",
       " 49.8955367,\n",
       " 61.0666922,\n",
       " 43.6534817,\n",
       " 43.7146484,\n",
       " 61.0666922,\n",
       " 61.0666922,\n",
       " 61.0666922,\n",
       " 61.0666922,\n",
       " 61.0666922,\n",
       " 61.0666922,\n",
       " 43.6534817,\n",
       " 61.0666922,\n",
       " 61.0666922,\n",
       " 61.0666922,\n",
       " 43.6534817,\n",
       " 61.0666922,\n",
       " 61.0666922,\n",
       " 61.0666922,\n",
       " 45.5031824,\n",
       " 43.6534817,\n",
       " 43.6534817,\n",
       " 43.6534817,\n",
       " 43.6534817,\n",
       " 61.0666922,\n",
       " 61.0666922,\n",
       " 61.0666922,\n",
       " 61.0666922,\n",
       " 45.5031824,\n",
       " 61.0666922,\n",
       " 61.0666922,\n",
       " 61.0666922,\n",
       " 43.6534817,\n",
       " 51.4837886,\n",
       " 43.6534817,\n",
       " 61.0666922,\n",
       " 61.0666922,\n",
       " 61.0666922,\n",
       " 43.2560802,\n",
       " 61.0666922,\n",
       " 61.0666922,\n",
       " 61.0666922,\n",
       " 61.0666922,\n",
       " 61.0666922,\n",
       " 43.6534817,\n",
       " 49.2608724,\n",
       " 51.5074456,\n",
       " 61.0666922,\n",
       " 51.0456064,\n",
       " 50.000678,\n",
       " -36.5986096,\n",
       " 61.0666922,\n",
       " 61.0666922,\n",
       " 49.2608724,\n",
       " 55.001251,\n",
       " 61.0666922,\n",
       " 43.6534817,\n",
       " 61.0666922,\n",
       " 61.0666922,\n",
       " 61.0666922,\n",
       " 61.0666922,\n",
       " 43.7146484,\n",
       " 61.0666922,\n",
       " 50.44876,\n",
       " 43.6534817,\n",
       " 61.0666922,\n",
       " 61.0666922,\n",
       " 45.4208777,\n",
       " 61.0666922,\n",
       " 43.6534817,\n",
       " 61.0666922,\n",
       " 61.0666922,\n",
       " 61.0666922,\n",
       " 61.0666922,\n",
       " 61.0666922,\n",
       " 61.0666922,\n",
       " 49.8955367,\n",
       " 61.0666922,\n",
       " 43.6534817,\n",
       " 40.7135078,\n",
       " 61.0666922,\n",
       " 61.0666922,\n",
       " 45.5031824,\n",
       " 49.2608724,\n",
       " 43.7146484,\n",
       " 51.5074456,\n",
       " 45.5031824,\n",
       " 44.648618,\n",
       " 43.6534817,\n",
       " 61.0666922,\n",
       " 61.0666922,\n",
       " 49.2608724,\n",
       " 61.0666922,\n",
       " 48.0706687,\n",
       " 43.6534817,\n",
       " 43.2560802,\n",
       " 43.6534817,\n",
       " 61.0666922,\n",
       " 43.6534817,\n",
       " 61.0666922,\n",
       " -36.5986096,\n",
       " 43.6534817,\n",
       " 43.6534817,\n",
       " 49.8955367,\n",
       " 61.0666922,\n",
       " 51.0456064,\n",
       " 61.0666922,\n",
       " 45.4208777,\n",
       " 61.0666922,\n",
       " 61.0666922,\n",
       " 43.5896231,\n",
       " 61.0666922,\n",
       " 49.2608724,\n",
       " 61.0666922,\n",
       " 43.6534817,\n",
       " 61.0666922,\n",
       " 61.0666922,\n",
       " 61.0666922,\n",
       " 61.0666922,\n",
       " 61.0666922,\n",
       " 43.2560802,\n",
       " 49.2608724,\n",
       " 61.0666922,\n",
       " 43.7146484,\n",
       " 43.6534817,\n",
       " 61.0666922,\n",
       " 43.6534817,\n",
       " 61.0666922,\n",
       " 61.0666922,\n",
       " 43.6534817,\n",
       " 61.0666922,\n",
       " 61.0666922,\n",
       " 61.0666922,\n",
       " 43.6534817,\n",
       " 55.001251,\n",
       " 61.0666922,\n",
       " 61.0666922,\n",
       " 61.0666922,\n",
       " 61.0666922,\n",
       " 61.0666922,\n",
       " 49.2608724,\n",
       " 61.0666922,\n",
       " 61.0666922,\n",
       " 49.2608724,\n",
       " 61.0666922,\n",
       " 43.6534817,\n",
       " 43.6534817,\n",
       " 43.2560802,\n",
       " 61.0666922,\n",
       " 61.0666922,\n",
       " 45.4208777,\n",
       " 61.0666922,\n",
       " 52.4760892,\n",
       " 61.0666922,\n",
       " 46.3432325,\n",
       " 61.0666922,\n",
       " 51.0456064,\n",
       " 61.0666922,\n",
       " 61.0666922,\n",
       " 61.0666922,\n",
       " 43.6534817,\n",
       " 48.0706687,\n",
       " 49.2608724,\n",
       " 61.0666922,\n",
       " 49.2608724,\n",
       " 43.6534817,\n",
       " 49.2608724,\n",
       " 44.648618,\n",
       " 51.0456064,\n",
       " -36.5986096,\n",
       " 49.2608724,\n",
       " -36.5986096,\n",
       " 43.6534817,\n",
       " 44.648618,\n",
       " 43.6534817,\n",
       " 61.0666922,\n",
       " 49.8955367,\n",
       " 61.0666922,\n",
       " 61.0666922,\n",
       " 51.4837886,\n",
       " 61.0666922,\n",
       " 61.0666922,\n",
       " 61.0666922,\n",
       " 61.0666922,\n",
       " 44.5678105,\n",
       " 43.6534817,\n",
       " 61.0666922,\n",
       " 42.498275,\n",
       " 47.5614705,\n",
       " 43.6534817,\n",
       " 40.7135078,\n",
       " 45.5031824,\n",
       " 61.0666922,\n",
       " 45.963233,\n",
       " 61.0666922,\n",
       " 43.6534817,\n",
       " 49.2608724,\n",
       " 43.6534817,\n",
       " 50.000678,\n",
       " 49.2608724,\n",
       " 43.6534817,\n",
       " 50.000678,\n",
       " 61.0666922,\n",
       " 61.0666922,\n",
       " 52.4760892,\n",
       " 61.0666922,\n",
       " 42.498275]"
      ]
     },
     "execution_count": 54,
     "metadata": {},
     "output_type": "execute_result"
    }
   ],
   "source": [
    "city_name = []\n",
    "latitude = []\n",
    "longitude = []\n",
    "\n",
    "for city in data_clean.city:\n",
    "    loc = Nominatim(user_agent=\"Geopy Library\")\n",
    "    getLoc=loc.geocode(f\"{city}\")\n",
    "    # print(f\"name : {city}\")\n",
    "    city_name.append(city)\n",
    "    latitude.append(getLoc.latitude)\n",
    "    longitude.append(getLoc.longitude)\n",
    "    # print(f\"latitude : {getLoc.latitude}\")\n",
    "    # print(f\"longitude : {getLoc.longitude}\")\n",
    "latitude"
   ]
  },
  {
   "cell_type": "code",
   "execution_count": null,
   "metadata": {},
   "outputs": [],
   "source": [
    "gps_coordinate = pd.DataFrame(latitude, index = city_name, columns=[\"latitude\"]).reset_index()"
   ]
  },
  {
   "cell_type": "code",
   "execution_count": null,
   "metadata": {},
   "outputs": [
    {
     "data": {
      "text/html": [
       "<div>\n",
       "<style scoped>\n",
       "    .dataframe tbody tr th:only-of-type {\n",
       "        vertical-align: middle;\n",
       "    }\n",
       "\n",
       "    .dataframe tbody tr th {\n",
       "        vertical-align: top;\n",
       "    }\n",
       "\n",
       "    .dataframe thead th {\n",
       "        text-align: right;\n",
       "    }\n",
       "</style>\n",
       "<table border=\"1\" class=\"dataframe\">\n",
       "  <thead>\n",
       "    <tr style=\"text-align: right;\">\n",
       "      <th></th>\n",
       "      <th>city</th>\n",
       "      <th>latitude</th>\n",
       "      <th>longitude</th>\n",
       "    </tr>\n",
       "  </thead>\n",
       "  <tbody>\n",
       "    <tr>\n",
       "      <th>0</th>\n",
       "      <td>Quebec</td>\n",
       "      <td>52.476089</td>\n",
       "      <td>-71.825867</td>\n",
       "    </tr>\n",
       "    <tr>\n",
       "      <th>1</th>\n",
       "      <td>Ontario</td>\n",
       "      <td>50.000678</td>\n",
       "      <td>-86.000977</td>\n",
       "    </tr>\n",
       "    <tr>\n",
       "      <th>2</th>\n",
       "      <td>Montreal</td>\n",
       "      <td>45.503182</td>\n",
       "      <td>-73.569806</td>\n",
       "    </tr>\n",
       "    <tr>\n",
       "      <th>3</th>\n",
       "      <td>Toronto</td>\n",
       "      <td>43.653482</td>\n",
       "      <td>-79.383935</td>\n",
       "    </tr>\n",
       "    <tr>\n",
       "      <th>4</th>\n",
       "      <td>Montreal</td>\n",
       "      <td>45.503182</td>\n",
       "      <td>-73.569806</td>\n",
       "    </tr>\n",
       "    <tr>\n",
       "      <th>...</th>\n",
       "      <td>...</td>\n",
       "      <td>...</td>\n",
       "      <td>...</td>\n",
       "    </tr>\n",
       "    <tr>\n",
       "      <th>254</th>\n",
       "      <td>Canada</td>\n",
       "      <td>61.066692</td>\n",
       "      <td>-107.991707</td>\n",
       "    </tr>\n",
       "    <tr>\n",
       "      <th>255</th>\n",
       "      <td>Canada</td>\n",
       "      <td>61.066692</td>\n",
       "      <td>-107.991707</td>\n",
       "    </tr>\n",
       "    <tr>\n",
       "      <th>256</th>\n",
       "      <td>Québec</td>\n",
       "      <td>52.476089</td>\n",
       "      <td>-71.825867</td>\n",
       "    </tr>\n",
       "    <tr>\n",
       "      <th>257</th>\n",
       "      <td>Canada</td>\n",
       "      <td>61.066692</td>\n",
       "      <td>-107.991707</td>\n",
       "    </tr>\n",
       "    <tr>\n",
       "      <th>258</th>\n",
       "      <td>Waterloo</td>\n",
       "      <td>42.498275</td>\n",
       "      <td>-92.332874</td>\n",
       "    </tr>\n",
       "  </tbody>\n",
       "</table>\n",
       "<p>259 rows × 3 columns</p>\n",
       "</div>"
      ],
      "text/plain": [
       "         city   latitude   longitude\n",
       "0      Quebec  52.476089  -71.825867\n",
       "1     Ontario  50.000678  -86.000977\n",
       "2    Montreal  45.503182  -73.569806\n",
       "3     Toronto  43.653482  -79.383935\n",
       "4    Montreal  45.503182  -73.569806\n",
       "..        ...        ...         ...\n",
       "254    Canada  61.066692 -107.991707\n",
       "255    Canada  61.066692 -107.991707\n",
       "256    Québec  52.476089  -71.825867\n",
       "257    Canada  61.066692 -107.991707\n",
       "258  Waterloo  42.498275  -92.332874\n",
       "\n",
       "[259 rows x 3 columns]"
      ]
     },
     "execution_count": 56,
     "metadata": {},
     "output_type": "execute_result"
    }
   ],
   "source": [
    "gps_coordinate[\"longitude\"] = longitude\n",
    "gps_coordinate = gps_coordinate.rename(columns={\"index\":\"city\"})\n",
    "gps_coordinate"
   ]
  },
  {
   "cell_type": "code",
   "execution_count": null,
   "metadata": {},
   "outputs": [
    {
     "data": {
      "text/plain": [
       "applicationsCount    0.0\n",
       "companyId            0.0\n",
       "companyName          0.0\n",
       "contractType         0.0\n",
       "description          0.0\n",
       "experienceLevel      0.0\n",
       "postedTime           0.0\n",
       "publishedAt          0.0\n",
       "sector               0.0\n",
       "title                0.0\n",
       "workType             0.0\n",
       "city                 0.0\n",
       "description_clean    0.0\n",
       "title_clean          0.0\n",
       "dtype: float64"
      ]
     },
     "execution_count": 57,
     "metadata": {},
     "output_type": "execute_result"
    }
   ],
   "source": [
    "# Check if no null values\n",
    "data_clean.isnull().sum().sort_values(ascending=False)/len(data_clean)"
   ]
  },
  {
   "cell_type": "code",
   "execution_count": null,
   "metadata": {},
   "outputs": [],
   "source": [
    "# Correspondance entre les\n",
    "\n",
    "data_clean = data_clean.merge(gps_coordinate)"
   ]
  },
  {
   "cell_type": "code",
   "execution_count": null,
   "metadata": {},
   "outputs": [
    {
     "data": {
      "text/plain": [
       "applicationsCount    0.0\n",
       "companyId            0.0\n",
       "companyName          0.0\n",
       "contractType         0.0\n",
       "description          0.0\n",
       "experienceLevel      0.0\n",
       "postedTime           0.0\n",
       "publishedAt          0.0\n",
       "sector               0.0\n",
       "title                0.0\n",
       "workType             0.0\n",
       "city                 0.0\n",
       "description_clean    0.0\n",
       "title_clean          0.0\n",
       "latitude             0.0\n",
       "longitude            0.0\n",
       "dtype: float64"
      ]
     },
     "execution_count": 59,
     "metadata": {},
     "output_type": "execute_result"
    }
   ],
   "source": [
    "# no null values\n",
    "data_clean.isnull().sum().sort_values(ascending=False)/len(data_clean)"
   ]
  },
  {
   "cell_type": "code",
   "execution_count": null,
   "metadata": {},
   "outputs": [
    {
     "data": {
      "text/html": [
       "<div>\n",
       "<style scoped>\n",
       "    .dataframe tbody tr th:only-of-type {\n",
       "        vertical-align: middle;\n",
       "    }\n",
       "\n",
       "    .dataframe tbody tr th {\n",
       "        vertical-align: top;\n",
       "    }\n",
       "\n",
       "    .dataframe thead th {\n",
       "        text-align: right;\n",
       "    }\n",
       "</style>\n",
       "<table border=\"1\" class=\"dataframe\">\n",
       "  <thead>\n",
       "    <tr style=\"text-align: right;\">\n",
       "      <th></th>\n",
       "      <th>city</th>\n",
       "      <th>longitude</th>\n",
       "      <th>latitude</th>\n",
       "      <th>count</th>\n",
       "    </tr>\n",
       "  </thead>\n",
       "  <tbody>\n",
       "    <tr>\n",
       "      <th>0</th>\n",
       "      <td>Canada</td>\n",
       "      <td>-107.991707</td>\n",
       "      <td>61.066692</td>\n",
       "      <td>16129</td>\n",
       "    </tr>\n",
       "    <tr>\n",
       "      <th>1</th>\n",
       "      <td>Toronto</td>\n",
       "      <td>-79.383935</td>\n",
       "      <td>43.653482</td>\n",
       "      <td>1764</td>\n",
       "    </tr>\n",
       "    <tr>\n",
       "      <th>2</th>\n",
       "      <td>Vancouver</td>\n",
       "      <td>-123.113952</td>\n",
       "      <td>49.260872</td>\n",
       "      <td>225</td>\n",
       "    </tr>\n",
       "    <tr>\n",
       "      <th>3</th>\n",
       "      <td>Ontario</td>\n",
       "      <td>-86.000977</td>\n",
       "      <td>50.000678</td>\n",
       "      <td>64</td>\n",
       "    </tr>\n",
       "    <tr>\n",
       "      <th>4</th>\n",
       "      <td>Montreal</td>\n",
       "      <td>-73.569806</td>\n",
       "      <td>45.503182</td>\n",
       "      <td>64</td>\n",
       "    </tr>\n",
       "    <tr>\n",
       "      <th>5</th>\n",
       "      <td>Hamilton</td>\n",
       "      <td>-79.872858</td>\n",
       "      <td>43.256080</td>\n",
       "      <td>16</td>\n",
       "    </tr>\n",
       "    <tr>\n",
       "      <th>6</th>\n",
       "      <td>Victoria</td>\n",
       "      <td>144.678005</td>\n",
       "      <td>-36.598610</td>\n",
       "      <td>16</td>\n",
       "    </tr>\n",
       "    <tr>\n",
       "      <th>7</th>\n",
       "      <td>Ottawa</td>\n",
       "      <td>-75.690111</td>\n",
       "      <td>45.420878</td>\n",
       "      <td>16</td>\n",
       "    </tr>\n",
       "    <tr>\n",
       "      <th>8</th>\n",
       "      <td>Winnipeg</td>\n",
       "      <td>-97.138458</td>\n",
       "      <td>49.895537</td>\n",
       "      <td>16</td>\n",
       "    </tr>\n",
       "    <tr>\n",
       "      <th>9</th>\n",
       "      <td>Calgary</td>\n",
       "      <td>-114.057541</td>\n",
       "      <td>51.045606</td>\n",
       "      <td>16</td>\n",
       "    </tr>\n",
       "    <tr>\n",
       "      <th>10</th>\n",
       "      <td>Greater Toronto Area</td>\n",
       "      <td>-79.588757</td>\n",
       "      <td>43.714648</td>\n",
       "      <td>16</td>\n",
       "    </tr>\n",
       "    <tr>\n",
       "      <th>11</th>\n",
       "      <td>Halifax</td>\n",
       "      <td>-63.585949</td>\n",
       "      <td>44.648618</td>\n",
       "      <td>9</td>\n",
       "    </tr>\n",
       "    <tr>\n",
       "      <th>21</th>\n",
       "      <td>St John’s</td>\n",
       "      <td>-52.712616</td>\n",
       "      <td>47.561470</td>\n",
       "      <td>4</td>\n",
       "    </tr>\n",
       "    <tr>\n",
       "      <th>20</th>\n",
       "      <td>Québec</td>\n",
       "      <td>-71.825867</td>\n",
       "      <td>52.476089</td>\n",
       "      <td>4</td>\n",
       "    </tr>\n",
       "    <tr>\n",
       "      <th>19</th>\n",
       "      <td>Queens</td>\n",
       "      <td>-73.828313</td>\n",
       "      <td>40.713508</td>\n",
       "      <td>4</td>\n",
       "    </tr>\n",
       "    <tr>\n",
       "      <th>18</th>\n",
       "      <td>Edmonton</td>\n",
       "      <td>-113.491241</td>\n",
       "      <td>53.546205</td>\n",
       "      <td>4</td>\n",
       "    </tr>\n",
       "    <tr>\n",
       "      <th>17</th>\n",
       "      <td>British Columbia</td>\n",
       "      <td>-125.002441</td>\n",
       "      <td>55.001251</td>\n",
       "      <td>4</td>\n",
       "    </tr>\n",
       "    <tr>\n",
       "      <th>16</th>\n",
       "      <td>Waterloo</td>\n",
       "      <td>-92.332874</td>\n",
       "      <td>42.498275</td>\n",
       "      <td>4</td>\n",
       "    </tr>\n",
       "    <tr>\n",
       "      <th>14</th>\n",
       "      <td>London</td>\n",
       "      <td>-0.127765</td>\n",
       "      <td>51.507446</td>\n",
       "      <td>4</td>\n",
       "    </tr>\n",
       "    <tr>\n",
       "      <th>13</th>\n",
       "      <td>Laval</td>\n",
       "      <td>-0.773402</td>\n",
       "      <td>48.070669</td>\n",
       "      <td>4</td>\n",
       "    </tr>\n",
       "    <tr>\n",
       "      <th>12</th>\n",
       "      <td>Quebec</td>\n",
       "      <td>-71.825867</td>\n",
       "      <td>52.476089</td>\n",
       "      <td>4</td>\n",
       "    </tr>\n",
       "    <tr>\n",
       "      <th>15</th>\n",
       "      <td>Windsor</td>\n",
       "      <td>-0.604042</td>\n",
       "      <td>51.483789</td>\n",
       "      <td>4</td>\n",
       "    </tr>\n",
       "    <tr>\n",
       "      <th>28</th>\n",
       "      <td>Owen Sound</td>\n",
       "      <td>-80.943009</td>\n",
       "      <td>44.567811</td>\n",
       "      <td>1</td>\n",
       "    </tr>\n",
       "    <tr>\n",
       "      <th>32</th>\n",
       "      <td>Manitoba</td>\n",
       "      <td>-97.001038</td>\n",
       "      <td>55.001251</td>\n",
       "      <td>1</td>\n",
       "    </tr>\n",
       "    <tr>\n",
       "      <th>31</th>\n",
       "      <td>Mississauga</td>\n",
       "      <td>-79.644388</td>\n",
       "      <td>43.589623</td>\n",
       "      <td>1</td>\n",
       "    </tr>\n",
       "    <tr>\n",
       "      <th>30</th>\n",
       "      <td>Moncton</td>\n",
       "      <td>-64.800110</td>\n",
       "      <td>46.097995</td>\n",
       "      <td>1</td>\n",
       "    </tr>\n",
       "    <tr>\n",
       "      <th>29</th>\n",
       "      <td>Oshawa</td>\n",
       "      <td>-78.863532</td>\n",
       "      <td>43.897556</td>\n",
       "      <td>1</td>\n",
       "    </tr>\n",
       "    <tr>\n",
       "      <th>25</th>\n",
       "      <td>Kelowna</td>\n",
       "      <td>-119.495902</td>\n",
       "      <td>49.887918</td>\n",
       "      <td>1</td>\n",
       "    </tr>\n",
       "    <tr>\n",
       "      <th>27</th>\n",
       "      <td>Kitchener</td>\n",
       "      <td>-80.492782</td>\n",
       "      <td>43.451291</td>\n",
       "      <td>1</td>\n",
       "    </tr>\n",
       "    <tr>\n",
       "      <th>26</th>\n",
       "      <td>Regina</td>\n",
       "      <td>-104.617310</td>\n",
       "      <td>50.448760</td>\n",
       "      <td>1</td>\n",
       "    </tr>\n",
       "    <tr>\n",
       "      <th>24</th>\n",
       "      <td>Fredericton</td>\n",
       "      <td>-66.643236</td>\n",
       "      <td>45.963233</td>\n",
       "      <td>1</td>\n",
       "    </tr>\n",
       "    <tr>\n",
       "      <th>23</th>\n",
       "      <td>Trois-Rivières</td>\n",
       "      <td>-72.542849</td>\n",
       "      <td>46.343232</td>\n",
       "      <td>1</td>\n",
       "    </tr>\n",
       "    <tr>\n",
       "      <th>22</th>\n",
       "      <td>Saskatoon</td>\n",
       "      <td>-106.660767</td>\n",
       "      <td>52.131802</td>\n",
       "      <td>1</td>\n",
       "    </tr>\n",
       "    <tr>\n",
       "      <th>33</th>\n",
       "      <td>Barrie</td>\n",
       "      <td>-79.690130</td>\n",
       "      <td>44.389321</td>\n",
       "      <td>1</td>\n",
       "    </tr>\n",
       "  </tbody>\n",
       "</table>\n",
       "</div>"
      ],
      "text/plain": [
       "                    city   longitude   latitude  count\n",
       "0                 Canada -107.991707  61.066692  16129\n",
       "1                Toronto  -79.383935  43.653482   1764\n",
       "2              Vancouver -123.113952  49.260872    225\n",
       "3                Ontario  -86.000977  50.000678     64\n",
       "4               Montreal  -73.569806  45.503182     64\n",
       "5               Hamilton  -79.872858  43.256080     16\n",
       "6               Victoria  144.678005 -36.598610     16\n",
       "7                 Ottawa  -75.690111  45.420878     16\n",
       "8               Winnipeg  -97.138458  49.895537     16\n",
       "9                Calgary -114.057541  51.045606     16\n",
       "10  Greater Toronto Area  -79.588757  43.714648     16\n",
       "11               Halifax  -63.585949  44.648618      9\n",
       "21             St John’s  -52.712616  47.561470      4\n",
       "20                Québec  -71.825867  52.476089      4\n",
       "19                Queens  -73.828313  40.713508      4\n",
       "18              Edmonton -113.491241  53.546205      4\n",
       "17      British Columbia -125.002441  55.001251      4\n",
       "16              Waterloo  -92.332874  42.498275      4\n",
       "14                London   -0.127765  51.507446      4\n",
       "13                 Laval   -0.773402  48.070669      4\n",
       "12                Quebec  -71.825867  52.476089      4\n",
       "15               Windsor   -0.604042  51.483789      4\n",
       "28            Owen Sound  -80.943009  44.567811      1\n",
       "32              Manitoba  -97.001038  55.001251      1\n",
       "31           Mississauga  -79.644388  43.589623      1\n",
       "30               Moncton  -64.800110  46.097995      1\n",
       "29                Oshawa  -78.863532  43.897556      1\n",
       "25               Kelowna -119.495902  49.887918      1\n",
       "27             Kitchener  -80.492782  43.451291      1\n",
       "26                Regina -104.617310  50.448760      1\n",
       "24           Fredericton  -66.643236  45.963233      1\n",
       "23        Trois-Rivières  -72.542849  46.343232      1\n",
       "22             Saskatoon -106.660767  52.131802      1\n",
       "33                Barrie  -79.690130  44.389321      1"
      ]
     },
     "execution_count": 60,
     "metadata": {},
     "output_type": "execute_result"
    }
   ],
   "source": [
    "city_count = data_clean[[\"city\",\"longitude\", \"latitude\"]].value_counts().reset_index().rename(columns={0:\"count\"}).sort_values(by=\"count\",ascending=False)\n",
    "city_count"
   ]
  },
  {
   "cell_type": "code",
   "execution_count": null,
   "metadata": {},
   "outputs": [],
   "source": [
    "city_count_without_canada = city_count.drop(index=[0])"
   ]
  },
  {
   "cell_type": "code",
   "execution_count": null,
   "metadata": {},
   "outputs": [],
   "source": [
    "# Remove Canada values and replace values that are excentric to canada -> there are just errors from search\n",
    "\n",
    "# Windsor -> correct lat / lon : Latitude\t42.314937\tLongitude\t-83.036363\n",
    "# Laval -> -73.707092, 45.612499\n",
    "# London -> -81.249725, 42.983612\n",
    "# Victoria -> -123.329773, 48.407326\n",
    "# Waterloo -> -80.520410, 43.464258\n",
    "# Queens -> -76.495099, 44.224997"
   ]
  },
  {
   "cell_type": "code",
   "execution_count": null,
   "metadata": {},
   "outputs": [],
   "source": [
    "city_count_without_canada = city_count_without_canada.set_index(\"city\")"
   ]
  },
  {
   "cell_type": "code",
   "execution_count": null,
   "metadata": {},
   "outputs": [
    {
     "data": {
      "text/html": [
       "<div>\n",
       "<style scoped>\n",
       "    .dataframe tbody tr th:only-of-type {\n",
       "        vertical-align: middle;\n",
       "    }\n",
       "\n",
       "    .dataframe tbody tr th {\n",
       "        vertical-align: top;\n",
       "    }\n",
       "\n",
       "    .dataframe thead th {\n",
       "        text-align: right;\n",
       "    }\n",
       "</style>\n",
       "<table border=\"1\" class=\"dataframe\">\n",
       "  <thead>\n",
       "    <tr style=\"text-align: right;\">\n",
       "      <th></th>\n",
       "      <th>longitude</th>\n",
       "      <th>latitude</th>\n",
       "      <th>count</th>\n",
       "    </tr>\n",
       "    <tr>\n",
       "      <th>city</th>\n",
       "      <th></th>\n",
       "      <th></th>\n",
       "      <th></th>\n",
       "    </tr>\n",
       "  </thead>\n",
       "  <tbody>\n",
       "    <tr>\n",
       "      <th>Toronto</th>\n",
       "      <td>-79.383935</td>\n",
       "      <td>43.653482</td>\n",
       "      <td>1764</td>\n",
       "    </tr>\n",
       "    <tr>\n",
       "      <th>Vancouver</th>\n",
       "      <td>-123.113952</td>\n",
       "      <td>49.260872</td>\n",
       "      <td>225</td>\n",
       "    </tr>\n",
       "    <tr>\n",
       "      <th>Ontario</th>\n",
       "      <td>-86.000977</td>\n",
       "      <td>50.000678</td>\n",
       "      <td>64</td>\n",
       "    </tr>\n",
       "    <tr>\n",
       "      <th>Montreal</th>\n",
       "      <td>-73.569806</td>\n",
       "      <td>45.503182</td>\n",
       "      <td>64</td>\n",
       "    </tr>\n",
       "    <tr>\n",
       "      <th>Hamilton</th>\n",
       "      <td>-79.872858</td>\n",
       "      <td>43.256080</td>\n",
       "      <td>16</td>\n",
       "    </tr>\n",
       "    <tr>\n",
       "      <th>Victoria</th>\n",
       "      <td>-123.329773</td>\n",
       "      <td>48.407326</td>\n",
       "      <td>16</td>\n",
       "    </tr>\n",
       "    <tr>\n",
       "      <th>Ottawa</th>\n",
       "      <td>-75.690111</td>\n",
       "      <td>45.420878</td>\n",
       "      <td>16</td>\n",
       "    </tr>\n",
       "    <tr>\n",
       "      <th>Winnipeg</th>\n",
       "      <td>-97.138458</td>\n",
       "      <td>49.895537</td>\n",
       "      <td>16</td>\n",
       "    </tr>\n",
       "    <tr>\n",
       "      <th>Calgary</th>\n",
       "      <td>-114.057541</td>\n",
       "      <td>51.045606</td>\n",
       "      <td>16</td>\n",
       "    </tr>\n",
       "    <tr>\n",
       "      <th>Greater Toronto Area</th>\n",
       "      <td>-79.588757</td>\n",
       "      <td>43.714648</td>\n",
       "      <td>16</td>\n",
       "    </tr>\n",
       "    <tr>\n",
       "      <th>Halifax</th>\n",
       "      <td>-63.585949</td>\n",
       "      <td>44.648618</td>\n",
       "      <td>9</td>\n",
       "    </tr>\n",
       "    <tr>\n",
       "      <th>St John’s</th>\n",
       "      <td>-52.712616</td>\n",
       "      <td>47.561470</td>\n",
       "      <td>4</td>\n",
       "    </tr>\n",
       "    <tr>\n",
       "      <th>Québec</th>\n",
       "      <td>-71.825867</td>\n",
       "      <td>52.476089</td>\n",
       "      <td>4</td>\n",
       "    </tr>\n",
       "    <tr>\n",
       "      <th>Queens</th>\n",
       "      <td>-76.495099</td>\n",
       "      <td>44.224997</td>\n",
       "      <td>4</td>\n",
       "    </tr>\n",
       "    <tr>\n",
       "      <th>Edmonton</th>\n",
       "      <td>-113.491241</td>\n",
       "      <td>53.546205</td>\n",
       "      <td>4</td>\n",
       "    </tr>\n",
       "    <tr>\n",
       "      <th>British Columbia</th>\n",
       "      <td>-125.002441</td>\n",
       "      <td>55.001251</td>\n",
       "      <td>4</td>\n",
       "    </tr>\n",
       "    <tr>\n",
       "      <th>Waterloo</th>\n",
       "      <td>-80.520410</td>\n",
       "      <td>43.464258</td>\n",
       "      <td>4</td>\n",
       "    </tr>\n",
       "    <tr>\n",
       "      <th>London</th>\n",
       "      <td>-81.249725</td>\n",
       "      <td>42.983612</td>\n",
       "      <td>4</td>\n",
       "    </tr>\n",
       "    <tr>\n",
       "      <th>Laval</th>\n",
       "      <td>-73.707092</td>\n",
       "      <td>45.612499</td>\n",
       "      <td>4</td>\n",
       "    </tr>\n",
       "    <tr>\n",
       "      <th>Quebec</th>\n",
       "      <td>-71.825867</td>\n",
       "      <td>52.476089</td>\n",
       "      <td>4</td>\n",
       "    </tr>\n",
       "    <tr>\n",
       "      <th>Windsor</th>\n",
       "      <td>-83.036363</td>\n",
       "      <td>42.314937</td>\n",
       "      <td>4</td>\n",
       "    </tr>\n",
       "    <tr>\n",
       "      <th>Owen Sound</th>\n",
       "      <td>-80.943009</td>\n",
       "      <td>44.567811</td>\n",
       "      <td>1</td>\n",
       "    </tr>\n",
       "    <tr>\n",
       "      <th>Manitoba</th>\n",
       "      <td>-97.001038</td>\n",
       "      <td>55.001251</td>\n",
       "      <td>1</td>\n",
       "    </tr>\n",
       "    <tr>\n",
       "      <th>Mississauga</th>\n",
       "      <td>-79.644388</td>\n",
       "      <td>43.589623</td>\n",
       "      <td>1</td>\n",
       "    </tr>\n",
       "    <tr>\n",
       "      <th>Moncton</th>\n",
       "      <td>-64.800110</td>\n",
       "      <td>46.097995</td>\n",
       "      <td>1</td>\n",
       "    </tr>\n",
       "    <tr>\n",
       "      <th>Oshawa</th>\n",
       "      <td>-78.863532</td>\n",
       "      <td>43.897556</td>\n",
       "      <td>1</td>\n",
       "    </tr>\n",
       "    <tr>\n",
       "      <th>Kelowna</th>\n",
       "      <td>-119.495902</td>\n",
       "      <td>49.887918</td>\n",
       "      <td>1</td>\n",
       "    </tr>\n",
       "    <tr>\n",
       "      <th>Kitchener</th>\n",
       "      <td>-80.492782</td>\n",
       "      <td>43.451291</td>\n",
       "      <td>1</td>\n",
       "    </tr>\n",
       "    <tr>\n",
       "      <th>Regina</th>\n",
       "      <td>-104.617310</td>\n",
       "      <td>50.448760</td>\n",
       "      <td>1</td>\n",
       "    </tr>\n",
       "    <tr>\n",
       "      <th>Fredericton</th>\n",
       "      <td>-66.643236</td>\n",
       "      <td>45.963233</td>\n",
       "      <td>1</td>\n",
       "    </tr>\n",
       "    <tr>\n",
       "      <th>Trois-Rivières</th>\n",
       "      <td>-72.542849</td>\n",
       "      <td>46.343232</td>\n",
       "      <td>1</td>\n",
       "    </tr>\n",
       "    <tr>\n",
       "      <th>Saskatoon</th>\n",
       "      <td>-106.660767</td>\n",
       "      <td>52.131802</td>\n",
       "      <td>1</td>\n",
       "    </tr>\n",
       "    <tr>\n",
       "      <th>Barrie</th>\n",
       "      <td>-79.690130</td>\n",
       "      <td>44.389321</td>\n",
       "      <td>1</td>\n",
       "    </tr>\n",
       "  </tbody>\n",
       "</table>\n",
       "</div>"
      ],
      "text/plain": [
       "                       longitude   latitude  count\n",
       "city                                              \n",
       "Toronto               -79.383935  43.653482   1764\n",
       "Vancouver            -123.113952  49.260872    225\n",
       "Ontario               -86.000977  50.000678     64\n",
       "Montreal              -73.569806  45.503182     64\n",
       "Hamilton              -79.872858  43.256080     16\n",
       "Victoria             -123.329773  48.407326     16\n",
       "Ottawa                -75.690111  45.420878     16\n",
       "Winnipeg              -97.138458  49.895537     16\n",
       "Calgary              -114.057541  51.045606     16\n",
       "Greater Toronto Area  -79.588757  43.714648     16\n",
       "Halifax               -63.585949  44.648618      9\n",
       "St John’s             -52.712616  47.561470      4\n",
       "Québec                -71.825867  52.476089      4\n",
       "Queens                -76.495099  44.224997      4\n",
       "Edmonton             -113.491241  53.546205      4\n",
       "British Columbia     -125.002441  55.001251      4\n",
       "Waterloo              -80.520410  43.464258      4\n",
       "London                -81.249725  42.983612      4\n",
       "Laval                 -73.707092  45.612499      4\n",
       "Quebec                -71.825867  52.476089      4\n",
       "Windsor               -83.036363  42.314937      4\n",
       "Owen Sound            -80.943009  44.567811      1\n",
       "Manitoba              -97.001038  55.001251      1\n",
       "Mississauga           -79.644388  43.589623      1\n",
       "Moncton               -64.800110  46.097995      1\n",
       "Oshawa                -78.863532  43.897556      1\n",
       "Kelowna              -119.495902  49.887918      1\n",
       "Kitchener             -80.492782  43.451291      1\n",
       "Regina               -104.617310  50.448760      1\n",
       "Fredericton           -66.643236  45.963233      1\n",
       "Trois-Rivières        -72.542849  46.343232      1\n",
       "Saskatoon            -106.660767  52.131802      1\n",
       "Barrie                -79.690130  44.389321      1"
      ]
     },
     "execution_count": 64,
     "metadata": {},
     "output_type": "execute_result"
    }
   ],
   "source": [
    "# Replacing gps coordinates for the following cities\n",
    "city_count_without_canada.loc[\"Windsor\",[\"longitude\",\"latitude\"]]=[-83.036363,42.314937]\n",
    "city_count_without_canada.loc[\"Laval\",[\"longitude\",\"latitude\"]]=[-73.707092,45.612499]\n",
    "city_count_without_canada.loc[\"London\",[\"longitude\",\"latitude\"]]=[-81.249725,42.983612]\n",
    "city_count_without_canada.loc[\"Victoria\",[\"longitude\",\"latitude\"]]=[-123.329773,48.407326]\n",
    "city_count_without_canada.loc[\"Waterloo\",[\"longitude\",\"latitude\"]]=[-80.520410,43.464258]\n",
    "city_count_without_canada.loc[\"Queens\",[\"longitude\",\"latitude\"]]=[-76.495099,44.224997]\n",
    "city_count_without_canada\n"
   ]
  },
  {
   "cell_type": "code",
   "execution_count": null,
   "metadata": {},
   "outputs": [
    {
     "data": {
      "text/html": [
       "<div style=\"width:100%;\"><div style=\"position:relative;width:100%;height:0;padding-bottom:60%;\"><span style=\"color:#565656\">Make this Notebook Trusted to load map: File -> Trust Notebook</span><iframe srcdoc=\"&lt;!DOCTYPE html&gt;\n",
       "&lt;html&gt;\n",
       "&lt;head&gt;\n",
       "    \n",
       "    &lt;meta http-equiv=&quot;content-type&quot; content=&quot;text/html; charset=UTF-8&quot; /&gt;\n",
       "    \n",
       "        &lt;script&gt;\n",
       "            L_NO_TOUCH = false;\n",
       "            L_DISABLE_3D = false;\n",
       "        &lt;/script&gt;\n",
       "    \n",
       "    &lt;style&gt;html, body {width: 100%;height: 100%;margin: 0;padding: 0;}&lt;/style&gt;\n",
       "    &lt;style&gt;#map {position:absolute;top:0;bottom:0;right:0;left:0;}&lt;/style&gt;\n",
       "    &lt;script src=&quot;https://cdn.jsdelivr.net/npm/leaflet@1.9.3/dist/leaflet.js&quot;&gt;&lt;/script&gt;\n",
       "    &lt;script src=&quot;https://code.jquery.com/jquery-1.12.4.min.js&quot;&gt;&lt;/script&gt;\n",
       "    &lt;script src=&quot;https://cdn.jsdelivr.net/npm/bootstrap@5.2.2/dist/js/bootstrap.bundle.min.js&quot;&gt;&lt;/script&gt;\n",
       "    &lt;script src=&quot;https://cdnjs.cloudflare.com/ajax/libs/Leaflet.awesome-markers/2.0.2/leaflet.awesome-markers.js&quot;&gt;&lt;/script&gt;\n",
       "    &lt;link rel=&quot;stylesheet&quot; href=&quot;https://cdn.jsdelivr.net/npm/leaflet@1.9.3/dist/leaflet.css&quot;/&gt;\n",
       "    &lt;link rel=&quot;stylesheet&quot; href=&quot;https://cdn.jsdelivr.net/npm/bootstrap@5.2.2/dist/css/bootstrap.min.css&quot;/&gt;\n",
       "    &lt;link rel=&quot;stylesheet&quot; href=&quot;https://netdna.bootstrapcdn.com/bootstrap/3.0.0/css/bootstrap.min.css&quot;/&gt;\n",
       "    &lt;link rel=&quot;stylesheet&quot; href=&quot;https://cdn.jsdelivr.net/npm/@fortawesome/fontawesome-free@6.2.0/css/all.min.css&quot;/&gt;\n",
       "    &lt;link rel=&quot;stylesheet&quot; href=&quot;https://cdnjs.cloudflare.com/ajax/libs/Leaflet.awesome-markers/2.0.2/leaflet.awesome-markers.css&quot;/&gt;\n",
       "    &lt;link rel=&quot;stylesheet&quot; href=&quot;https://cdn.jsdelivr.net/gh/python-visualization/folium/folium/templates/leaflet.awesome.rotate.min.css&quot;/&gt;\n",
       "    \n",
       "            &lt;meta name=&quot;viewport&quot; content=&quot;width=device-width,\n",
       "                initial-scale=1.0, maximum-scale=1.0, user-scalable=no&quot; /&gt;\n",
       "            &lt;style&gt;\n",
       "                #map_2a19174e84945bd4fecfd89f3106a77b {\n",
       "                    position: relative;\n",
       "                    width: 100.0%;\n",
       "                    height: 100.0%;\n",
       "                    left: 0.0%;\n",
       "                    top: 0.0%;\n",
       "                }\n",
       "                .leaflet-container { font-size: 1rem; }\n",
       "            &lt;/style&gt;\n",
       "        \n",
       "    &lt;script src=&quot;https://cdn.jsdelivr.net/gh/python-visualization/folium@main/folium/templates/leaflet_heat.min.js&quot;&gt;&lt;/script&gt;\n",
       "&lt;/head&gt;\n",
       "&lt;body&gt;\n",
       "    \n",
       "    \n",
       "            &lt;div class=&quot;folium-map&quot; id=&quot;map_2a19174e84945bd4fecfd89f3106a77b&quot; &gt;&lt;/div&gt;\n",
       "        \n",
       "&lt;/body&gt;\n",
       "&lt;script&gt;\n",
       "    \n",
       "    \n",
       "            var map_2a19174e84945bd4fecfd89f3106a77b = L.map(\n",
       "                &quot;map_2a19174e84945bd4fecfd89f3106a77b&quot;,\n",
       "                {\n",
       "                    center: [45.420878, -79.690111],\n",
       "                    crs: L.CRS.EPSG3857,\n",
       "                    zoom: 4.4,\n",
       "                    zoomControl: true,\n",
       "                    preferCanvas: false,\n",
       "                }\n",
       "            );\n",
       "\n",
       "            \n",
       "\n",
       "        \n",
       "    \n",
       "            var tile_layer_e3618f40854e349da951518fede61f77 = L.tileLayer(\n",
       "                &quot;https://{s}.tile.openstreetmap.org/{z}/{x}/{y}.png&quot;,\n",
       "                {&quot;attribution&quot;: &quot;Data by \\u0026copy; \\u003ca target=\\&quot;_blank\\&quot; href=\\&quot;http://openstreetmap.org\\&quot;\\u003eOpenStreetMap\\u003c/a\\u003e, under \\u003ca target=\\&quot;_blank\\&quot; href=\\&quot;http://www.openstreetmap.org/copyright\\&quot;\\u003eODbL\\u003c/a\\u003e.&quot;, &quot;detectRetina&quot;: false, &quot;maxNativeZoom&quot;: 18, &quot;maxZoom&quot;: 18, &quot;minZoom&quot;: 0, &quot;noWrap&quot;: false, &quot;opacity&quot;: 1, &quot;subdomains&quot;: &quot;abc&quot;, &quot;tms&quot;: false}\n",
       "            ).addTo(map_2a19174e84945bd4fecfd89f3106a77b);\n",
       "        \n",
       "    \n",
       "            var heat_map_93976f7043edb240f2ef568e7942dd69 = L.heatLayer(\n",
       "                [[43.6534817, -79.3839347], [49.2608724, -123.113952], [50.000678, -86.000977], [45.5031824, -73.5698065], [43.2560802, -79.8728583], [48.407326, -123.329773], [45.4208777, -75.6901106], [49.8955367, -97.1384584], [51.0456064, -114.057541], [43.7146484, -79.58875654053686], [44.648618, -63.5859487], [47.5614705, -52.7126162], [52.4760892, -71.8258668], [44.224997, -76.495099], [53.5462055, -113.491241], [55.001251, -125.002441], [43.464258, -80.52041], [42.983612, -81.249725], [45.612499, -73.707092], [52.4760892, -71.8258668], [42.314937, -83.036363], [44.5678105, -80.9430094], [55.001251, -97.001038], [43.5896231, -79.6443879], [46.097995, -64.80011], [43.8975558, -78.8635324], [49.8879177, -119.495902], [43.451291, -80.4927815], [50.44876, -104.61731], [45.963233, -66.6432356], [46.3432325, -72.5428485], [52.131802, -106.660767], [44.3893208, -79.6901302]],\n",
       "                {&quot;blur&quot;: 15, &quot;maxZoom&quot;: 18, &quot;minOpacity&quot;: 0.5, &quot;radius&quot;: 25}\n",
       "            ).addTo(map_2a19174e84945bd4fecfd89f3106a77b);\n",
       "        \n",
       "&lt;/script&gt;\n",
       "&lt;/html&gt;\" style=\"position:absolute;width:100%;height:100%;left:0;top:0;border:none !important;\" allowfullscreen webkitallowfullscreen mozallowfullscreen></iframe></div></div>"
      ],
      "text/plain": [
       "<folium.folium.Map at 0x1686c89d0>"
      ]
     },
     "execution_count": 65,
     "metadata": {},
     "output_type": "execute_result"
    }
   ],
   "source": [
    "# Mapping all job opportunities on Canada map\n",
    "\n",
    "# Folium\n",
    "\n",
    "map = folium.Map(location=[45.420878,-79.690111], zoom_start = 4.4)\n",
    "lat_long= [[lat, long] for lat, long in zip(city_count_without_canada['latitude'][:100], city_count_without_canada['longitude'][:100])]\n",
    "crime_heat_map = HeatMap(lat_long)\n",
    "crime_heat_map.add_to(map)\n",
    "map"
   ]
  },
  {
   "cell_type": "code",
   "execution_count": null,
   "metadata": {},
   "outputs": [],
   "source": []
  }
 ],
 "metadata": {
  "kernelspec": {
   "display_name": "lewagon",
   "language": "python",
   "name": "python3"
  },
  "language_info": {
   "codemirror_mode": {
    "name": "ipython",
    "version": 3
   },
   "file_extension": ".py",
   "mimetype": "text/x-python",
   "name": "python",
   "nbconvert_exporter": "python",
   "pygments_lexer": "ipython3",
   "version": "3.10.6"
  }
 },
 "nbformat": 4,
 "nbformat_minor": 2
}
